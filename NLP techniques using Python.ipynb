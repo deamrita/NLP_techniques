{
 "cells": [
  {
   "cell_type": "markdown",
   "id": "f7cfe390",
   "metadata": {},
   "source": [
    "## 1. Bag of words"
   ]
  },
  {
   "cell_type": "code",
   "execution_count": 1,
   "id": "f93dd07f",
   "metadata": {},
   "outputs": [],
   "source": [
    "from sklearn.feature_extraction.text import CountVectorizer"
   ]
  },
  {
   "cell_type": "markdown",
   "id": "482c1854",
   "metadata": {},
   "source": [
    "### Define some training utterances"
   ]
  },
  {
   "cell_type": "code",
   "execution_count": 2,
   "id": "e0b02628",
   "metadata": {},
   "outputs": [],
   "source": [
    "class Category:\n",
    "  BOOKS = \"BOOKS\"\n",
    "  CLOTHING = \"CLOTHING\"\n",
    "\n",
    "train_x = [\"i love the book\", \"this is a great book\", \"the fit is great\", \"i love the shoes\"]\n",
    "train_y = [Category.BOOKS, Category.BOOKS, Category.CLOTHING, Category.CLOTHING]\n",
    "     "
   ]
  },
  {
   "cell_type": "code",
   "execution_count": 3,
   "id": "40034fb7",
   "metadata": {},
   "outputs": [],
   "source": [
    "train_x = [\"I love the book\", \"This is a great book\", \"This fit is great\", \"I love the shoes\"]"
   ]
  },
  {
   "cell_type": "markdown",
   "id": "522c6c35",
   "metadata": {},
   "source": [
    "### Fit vectorizer to transform text to bag-of-words vectors\n"
   ]
  },
  {
   "cell_type": "code",
   "execution_count": 4,
   "id": "0dec28f4",
   "metadata": {},
   "outputs": [
    {
     "name": "stdout",
     "output_type": "stream",
     "text": [
      "['book', 'fit', 'fit is', 'great', 'great book', 'is', 'is great', 'love', 'love the', 'shoes', 'the', 'the book', 'the shoes', 'this', 'this fit', 'this is']\n",
      "[[1 0 0 0 0 0 0 1 1 0 1 1 0 0 0 0]\n",
      " [1 0 0 1 1 1 1 0 0 0 0 0 0 1 0 1]\n",
      " [0 1 1 1 0 1 1 0 0 0 0 0 0 1 1 0]\n",
      " [0 0 0 0 0 0 0 1 1 1 1 0 1 0 0 0]]\n",
      "  (0, 0)\t1\n",
      "  (0, 13)\t1\n",
      "  (0, 5)\t1\n",
      "  (0, 3)\t1\n",
      "  (0, 15)\t1\n",
      "  (0, 6)\t1\n",
      "  (0, 4)\t1\n"
     ]
    },
    {
     "name": "stderr",
     "output_type": "stream",
     "text": [
      "C:\\Users\\Amrita\\anaconda3\\lib\\site-packages\\sklearn\\utils\\deprecation.py:87: FutureWarning: Function get_feature_names is deprecated; get_feature_names is deprecated in 1.0 and will be removed in 1.2. Please use get_feature_names_out instead.\n",
      "  warnings.warn(msg, category=FutureWarning)\n"
     ]
    }
   ],
   "source": [
    "vectorizer = CountVectorizer(binary = True, ngram_range=(1, 2)) #only 0 or 1. does not give count of words.bigram.\n",
    "train_x_vectors = vectorizer.fit_transform(train_x)\n",
    "print(vectorizer.get_feature_names())\n",
    "print(train_x_vectors.toarray())\n",
    "print(train_x_vectors[1])"
   ]
  },
  {
   "cell_type": "code",
   "execution_count": 5,
   "id": "f184ad5d",
   "metadata": {},
   "outputs": [],
   "source": [
    "# Sequence is not maintained"
   ]
  },
  {
   "cell_type": "markdown",
   "id": "f1ff39b1",
   "metadata": {},
   "source": [
    "### Train SVM Model"
   ]
  },
  {
   "cell_type": "code",
   "execution_count": 6,
   "id": "83663e4f",
   "metadata": {},
   "outputs": [
    {
     "data": {
      "text/html": [
       "<style>#sk-container-id-1 {color: black;background-color: white;}#sk-container-id-1 pre{padding: 0;}#sk-container-id-1 div.sk-toggleable {background-color: white;}#sk-container-id-1 label.sk-toggleable__label {cursor: pointer;display: block;width: 100%;margin-bottom: 0;padding: 0.3em;box-sizing: border-box;text-align: center;}#sk-container-id-1 label.sk-toggleable__label-arrow:before {content: \"▸\";float: left;margin-right: 0.25em;color: #696969;}#sk-container-id-1 label.sk-toggleable__label-arrow:hover:before {color: black;}#sk-container-id-1 div.sk-estimator:hover label.sk-toggleable__label-arrow:before {color: black;}#sk-container-id-1 div.sk-toggleable__content {max-height: 0;max-width: 0;overflow: hidden;text-align: left;background-color: #f0f8ff;}#sk-container-id-1 div.sk-toggleable__content pre {margin: 0.2em;color: black;border-radius: 0.25em;background-color: #f0f8ff;}#sk-container-id-1 input.sk-toggleable__control:checked~div.sk-toggleable__content {max-height: 200px;max-width: 100%;overflow: auto;}#sk-container-id-1 input.sk-toggleable__control:checked~label.sk-toggleable__label-arrow:before {content: \"▾\";}#sk-container-id-1 div.sk-estimator input.sk-toggleable__control:checked~label.sk-toggleable__label {background-color: #d4ebff;}#sk-container-id-1 div.sk-label input.sk-toggleable__control:checked~label.sk-toggleable__label {background-color: #d4ebff;}#sk-container-id-1 input.sk-hidden--visually {border: 0;clip: rect(1px 1px 1px 1px);clip: rect(1px, 1px, 1px, 1px);height: 1px;margin: -1px;overflow: hidden;padding: 0;position: absolute;width: 1px;}#sk-container-id-1 div.sk-estimator {font-family: monospace;background-color: #f0f8ff;border: 1px dotted black;border-radius: 0.25em;box-sizing: border-box;margin-bottom: 0.5em;}#sk-container-id-1 div.sk-estimator:hover {background-color: #d4ebff;}#sk-container-id-1 div.sk-parallel-item::after {content: \"\";width: 100%;border-bottom: 1px solid gray;flex-grow: 1;}#sk-container-id-1 div.sk-label:hover label.sk-toggleable__label {background-color: #d4ebff;}#sk-container-id-1 div.sk-serial::before {content: \"\";position: absolute;border-left: 1px solid gray;box-sizing: border-box;top: 0;bottom: 0;left: 50%;z-index: 0;}#sk-container-id-1 div.sk-serial {display: flex;flex-direction: column;align-items: center;background-color: white;padding-right: 0.2em;padding-left: 0.2em;position: relative;}#sk-container-id-1 div.sk-item {position: relative;z-index: 1;}#sk-container-id-1 div.sk-parallel {display: flex;align-items: stretch;justify-content: center;background-color: white;position: relative;}#sk-container-id-1 div.sk-item::before, #sk-container-id-1 div.sk-parallel-item::before {content: \"\";position: absolute;border-left: 1px solid gray;box-sizing: border-box;top: 0;bottom: 0;left: 50%;z-index: -1;}#sk-container-id-1 div.sk-parallel-item {display: flex;flex-direction: column;z-index: 1;position: relative;background-color: white;}#sk-container-id-1 div.sk-parallel-item:first-child::after {align-self: flex-end;width: 50%;}#sk-container-id-1 div.sk-parallel-item:last-child::after {align-self: flex-start;width: 50%;}#sk-container-id-1 div.sk-parallel-item:only-child::after {width: 0;}#sk-container-id-1 div.sk-dashed-wrapped {border: 1px dashed gray;margin: 0 0.4em 0.5em 0.4em;box-sizing: border-box;padding-bottom: 0.4em;background-color: white;}#sk-container-id-1 div.sk-label label {font-family: monospace;font-weight: bold;display: inline-block;line-height: 1.2em;}#sk-container-id-1 div.sk-label-container {text-align: center;}#sk-container-id-1 div.sk-container {/* jupyter's `normalize.less` sets `[hidden] { display: none; }` but bootstrap.min.css set `[hidden] { display: none !important; }` so we also need the `!important` here to be able to override the default hidden behavior on the sphinx rendered scikit-learn.org. See: https://github.com/scikit-learn/scikit-learn/issues/21755 */display: inline-block !important;position: relative;}#sk-container-id-1 div.sk-text-repr-fallback {display: none;}</style><div id=\"sk-container-id-1\" class=\"sk-top-container\"><div class=\"sk-text-repr-fallback\"><pre>SVC(kernel=&#x27;linear&#x27;)</pre><b>In a Jupyter environment, please rerun this cell to show the HTML representation or trust the notebook. <br />On GitHub, the HTML representation is unable to render, please try loading this page with nbviewer.org.</b></div><div class=\"sk-container\" hidden><div class=\"sk-item\"><div class=\"sk-estimator sk-toggleable\"><input class=\"sk-toggleable__control sk-hidden--visually\" id=\"sk-estimator-id-1\" type=\"checkbox\" checked><label for=\"sk-estimator-id-1\" class=\"sk-toggleable__label sk-toggleable__label-arrow\">SVC</label><div class=\"sk-toggleable__content\"><pre>SVC(kernel=&#x27;linear&#x27;)</pre></div></div></div></div></div>"
      ],
      "text/plain": [
       "SVC(kernel='linear')"
      ]
     },
     "execution_count": 6,
     "metadata": {},
     "output_type": "execute_result"
    }
   ],
   "source": [
    "from sklearn import svm\n",
    "\n",
    "clf_svm = svm.SVC(kernel='linear')\n",
    "clf_svm.fit(train_x_vectors, train_y)"
   ]
  },
  {
   "cell_type": "markdown",
   "id": "a869823d",
   "metadata": {},
   "source": [
    "### Test new utterances on trained model"
   ]
  },
  {
   "cell_type": "code",
   "execution_count": 7,
   "id": "95e5c2b5",
   "metadata": {},
   "outputs": [
    {
     "data": {
      "text/plain": [
       "array(['BOOKS'], dtype='<U8')"
      ]
     },
     "execution_count": 7,
     "metadata": {},
     "output_type": "execute_result"
    }
   ],
   "source": [
    "test_x = vectorizer.transform(['i like the book'])\n",
    "\n",
    "clf_svm.predict(test_x)"
   ]
  },
  {
   "cell_type": "code",
   "execution_count": 8,
   "id": "95910cc0",
   "metadata": {},
   "outputs": [],
   "source": [
    "# it will work with 'book' but not 'books'. It fails badly if does not know about a word."
   ]
  },
  {
   "cell_type": "markdown",
   "id": "75be65e2",
   "metadata": {},
   "source": [
    "## 2. Tfidf vectorization"
   ]
  },
  {
   "cell_type": "code",
   "execution_count": 9,
   "id": "d6f536a6",
   "metadata": {},
   "outputs": [],
   "source": [
    "#TFIDF works by proportionally increasing the number of times a word appears in the document but is counterbalanced by the number of documents in which it is present. \n",
    "#Hence, words like ‘this’, ’are’ etc., that are commonly present in all the documents are not given a very high rank. \n",
    "#However, a word that is present too many times in a few of the documents will be given a higher rank as it might be indicative of the context of the document."
   ]
  },
  {
   "cell_type": "code",
   "execution_count": 10,
   "id": "bf8200ae",
   "metadata": {},
   "outputs": [],
   "source": [
    "#The limitation of TFIDF is again \n",
    "#that this vectorization doesn’t help in bringing in the contextual meaning of the words as it is just based on the frequency."
   ]
  },
  {
   "cell_type": "markdown",
   "id": "170f84db",
   "metadata": {},
   "source": [
    "### formula\n",
    "### tf-idf(t, d) = tf(t, d) * idf(t)\n",
    "\n",
    "### where,\n",
    "### tf(t,d) = count of term t in document d / total number of words in d\n",
    "\n",
    "### idf(t) = log(number of documents in the corpus / number of documents in the corpus containing that term)"
   ]
  },
  {
   "cell_type": "code",
   "execution_count": 11,
   "id": "7f6c6f32",
   "metadata": {},
   "outputs": [
    {
     "name": "stdout",
     "output_type": "stream",
     "text": [
      "['book', 'fit', 'great', 'is', 'love', 'shoes', 'the', 'this']\n",
      "[[0.57735027 0.         0.         0.         0.57735027 0.\n",
      "  0.57735027 0.        ]\n",
      " [0.5        0.         0.5        0.5        0.         0.\n",
      "  0.         0.5       ]\n",
      " [0.         0.59081908 0.46580855 0.46580855 0.         0.\n",
      "  0.         0.46580855]\n",
      " [0.         0.         0.         0.         0.52640543 0.66767854\n",
      "  0.52640543 0.        ]]\n",
      "  (0, 2)\t0.5\n",
      "  (0, 3)\t0.5\n",
      "  (0, 7)\t0.5\n",
      "  (0, 0)\t0.5\n"
     ]
    },
    {
     "name": "stderr",
     "output_type": "stream",
     "text": [
      "C:\\Users\\Amrita\\anaconda3\\lib\\site-packages\\sklearn\\utils\\deprecation.py:87: FutureWarning: Function get_feature_names is deprecated; get_feature_names is deprecated in 1.0 and will be removed in 1.2. Please use get_feature_names_out instead.\n",
      "  warnings.warn(msg, category=FutureWarning)\n"
     ]
    }
   ],
   "source": [
    "from sklearn.feature_extraction.text import TfidfVectorizer\n",
    "vectorizer = TfidfVectorizer()\n",
    "train_x_vectors_tfidf = vectorizer.fit_transform(train_x)\n",
    "print(vectorizer.get_feature_names())\n",
    "print(train_x_vectors_tfidf.toarray())\n",
    "print(train_x_vectors_tfidf[1])"
   ]
  },
  {
   "cell_type": "code",
   "execution_count": 12,
   "id": "7a010ae1",
   "metadata": {},
   "outputs": [
    {
     "data": {
      "text/html": [
       "<style>#sk-container-id-2 {color: black;background-color: white;}#sk-container-id-2 pre{padding: 0;}#sk-container-id-2 div.sk-toggleable {background-color: white;}#sk-container-id-2 label.sk-toggleable__label {cursor: pointer;display: block;width: 100%;margin-bottom: 0;padding: 0.3em;box-sizing: border-box;text-align: center;}#sk-container-id-2 label.sk-toggleable__label-arrow:before {content: \"▸\";float: left;margin-right: 0.25em;color: #696969;}#sk-container-id-2 label.sk-toggleable__label-arrow:hover:before {color: black;}#sk-container-id-2 div.sk-estimator:hover label.sk-toggleable__label-arrow:before {color: black;}#sk-container-id-2 div.sk-toggleable__content {max-height: 0;max-width: 0;overflow: hidden;text-align: left;background-color: #f0f8ff;}#sk-container-id-2 div.sk-toggleable__content pre {margin: 0.2em;color: black;border-radius: 0.25em;background-color: #f0f8ff;}#sk-container-id-2 input.sk-toggleable__control:checked~div.sk-toggleable__content {max-height: 200px;max-width: 100%;overflow: auto;}#sk-container-id-2 input.sk-toggleable__control:checked~label.sk-toggleable__label-arrow:before {content: \"▾\";}#sk-container-id-2 div.sk-estimator input.sk-toggleable__control:checked~label.sk-toggleable__label {background-color: #d4ebff;}#sk-container-id-2 div.sk-label input.sk-toggleable__control:checked~label.sk-toggleable__label {background-color: #d4ebff;}#sk-container-id-2 input.sk-hidden--visually {border: 0;clip: rect(1px 1px 1px 1px);clip: rect(1px, 1px, 1px, 1px);height: 1px;margin: -1px;overflow: hidden;padding: 0;position: absolute;width: 1px;}#sk-container-id-2 div.sk-estimator {font-family: monospace;background-color: #f0f8ff;border: 1px dotted black;border-radius: 0.25em;box-sizing: border-box;margin-bottom: 0.5em;}#sk-container-id-2 div.sk-estimator:hover {background-color: #d4ebff;}#sk-container-id-2 div.sk-parallel-item::after {content: \"\";width: 100%;border-bottom: 1px solid gray;flex-grow: 1;}#sk-container-id-2 div.sk-label:hover label.sk-toggleable__label {background-color: #d4ebff;}#sk-container-id-2 div.sk-serial::before {content: \"\";position: absolute;border-left: 1px solid gray;box-sizing: border-box;top: 0;bottom: 0;left: 50%;z-index: 0;}#sk-container-id-2 div.sk-serial {display: flex;flex-direction: column;align-items: center;background-color: white;padding-right: 0.2em;padding-left: 0.2em;position: relative;}#sk-container-id-2 div.sk-item {position: relative;z-index: 1;}#sk-container-id-2 div.sk-parallel {display: flex;align-items: stretch;justify-content: center;background-color: white;position: relative;}#sk-container-id-2 div.sk-item::before, #sk-container-id-2 div.sk-parallel-item::before {content: \"\";position: absolute;border-left: 1px solid gray;box-sizing: border-box;top: 0;bottom: 0;left: 50%;z-index: -1;}#sk-container-id-2 div.sk-parallel-item {display: flex;flex-direction: column;z-index: 1;position: relative;background-color: white;}#sk-container-id-2 div.sk-parallel-item:first-child::after {align-self: flex-end;width: 50%;}#sk-container-id-2 div.sk-parallel-item:last-child::after {align-self: flex-start;width: 50%;}#sk-container-id-2 div.sk-parallel-item:only-child::after {width: 0;}#sk-container-id-2 div.sk-dashed-wrapped {border: 1px dashed gray;margin: 0 0.4em 0.5em 0.4em;box-sizing: border-box;padding-bottom: 0.4em;background-color: white;}#sk-container-id-2 div.sk-label label {font-family: monospace;font-weight: bold;display: inline-block;line-height: 1.2em;}#sk-container-id-2 div.sk-label-container {text-align: center;}#sk-container-id-2 div.sk-container {/* jupyter's `normalize.less` sets `[hidden] { display: none; }` but bootstrap.min.css set `[hidden] { display: none !important; }` so we also need the `!important` here to be able to override the default hidden behavior on the sphinx rendered scikit-learn.org. See: https://github.com/scikit-learn/scikit-learn/issues/21755 */display: inline-block !important;position: relative;}#sk-container-id-2 div.sk-text-repr-fallback {display: none;}</style><div id=\"sk-container-id-2\" class=\"sk-top-container\"><div class=\"sk-text-repr-fallback\"><pre>SVC(kernel=&#x27;linear&#x27;)</pre><b>In a Jupyter environment, please rerun this cell to show the HTML representation or trust the notebook. <br />On GitHub, the HTML representation is unable to render, please try loading this page with nbviewer.org.</b></div><div class=\"sk-container\" hidden><div class=\"sk-item\"><div class=\"sk-estimator sk-toggleable\"><input class=\"sk-toggleable__control sk-hidden--visually\" id=\"sk-estimator-id-2\" type=\"checkbox\" checked><label for=\"sk-estimator-id-2\" class=\"sk-toggleable__label sk-toggleable__label-arrow\">SVC</label><div class=\"sk-toggleable__content\"><pre>SVC(kernel=&#x27;linear&#x27;)</pre></div></div></div></div></div>"
      ],
      "text/plain": [
       "SVC(kernel='linear')"
      ]
     },
     "execution_count": 12,
     "metadata": {},
     "output_type": "execute_result"
    }
   ],
   "source": [
    "from sklearn import svm\n",
    "\n",
    "clf_svm = svm.SVC(kernel='linear')\n",
    "clf_svm.fit(train_x_vectors_tfidf, train_y)"
   ]
  },
  {
   "cell_type": "code",
   "execution_count": 13,
   "id": "59605d5b",
   "metadata": {},
   "outputs": [
    {
     "data": {
      "text/plain": [
       "array(['BOOKS'], dtype='<U8')"
      ]
     },
     "execution_count": 13,
     "metadata": {},
     "output_type": "execute_result"
    }
   ],
   "source": [
    "test_x = vectorizer.transform(['i like the book'])\n",
    "\n",
    "clf_svm.predict(test_x)"
   ]
  },
  {
   "cell_type": "markdown",
   "id": "da71f878",
   "metadata": {},
   "source": [
    "## 3.Word vectors using spacy"
   ]
  },
  {
   "cell_type": "code",
   "execution_count": 14,
   "id": "d396a35c",
   "metadata": {},
   "outputs": [],
   "source": [
    "# converting words into numbers and find the association or context.\n",
    "#Ref: https://spacy.pythonhumanities.com/01_03_word_vectors.html"
   ]
  },
  {
   "cell_type": "code",
   "execution_count": 15,
   "id": "842af39f",
   "metadata": {
    "scrolled": true
   },
   "outputs": [
    {
     "name": "stdout",
     "output_type": "stream",
     "text": [
      "Requirement already satisfied: spacy in c:\\users\\amrita\\anaconda3\\lib\\site-packages (3.5.3)\n",
      "Requirement already satisfied: spacy-loggers<2.0.0,>=1.0.0 in c:\\users\\amrita\\anaconda3\\lib\\site-packages (from spacy) (1.0.4)\n",
      "Requirement already satisfied: spacy-legacy<3.1.0,>=3.0.11 in c:\\users\\amrita\\anaconda3\\lib\\site-packages (from spacy) (3.0.12)\n",
      "Requirement already satisfied: packaging>=20.0 in c:\\users\\amrita\\anaconda3\\lib\\site-packages (from spacy) (23.1)\n",
      "Requirement already satisfied: cymem<2.1.0,>=2.0.2 in c:\\users\\amrita\\anaconda3\\lib\\site-packages (from spacy) (2.0.7)\n",
      "Requirement already satisfied: srsly<3.0.0,>=2.4.3 in c:\\users\\amrita\\anaconda3\\lib\\site-packages (from spacy) (2.4.6)\n",
      "Requirement already satisfied: setuptools in c:\\users\\amrita\\anaconda3\\lib\\site-packages (from spacy) (52.0.0.post20210125)\n",
      "Requirement already satisfied: numpy>=1.15.0 in c:\\users\\amrita\\anaconda3\\lib\\site-packages (from spacy) (1.23.5)\n",
      "Requirement already satisfied: preshed<3.1.0,>=3.0.2 in c:\\users\\amrita\\anaconda3\\lib\\site-packages (from spacy) (3.0.8)\n",
      "Requirement already satisfied: smart-open<7.0.0,>=5.2.1 in c:\\users\\amrita\\anaconda3\\lib\\site-packages (from spacy) (6.3.0)\n",
      "Requirement already satisfied: murmurhash<1.1.0,>=0.28.0 in c:\\users\\amrita\\anaconda3\\lib\\site-packages (from spacy) (1.0.9)\n",
      "Requirement already satisfied: typer<0.8.0,>=0.3.0 in c:\\users\\amrita\\anaconda3\\lib\\site-packages (from spacy) (0.7.0)\n",
      "Requirement already satisfied: jinja2 in c:\\users\\amrita\\anaconda3\\lib\\site-packages (from spacy) (2.11.3)\n",
      "Requirement already satisfied: pathy>=0.10.0 in c:\\users\\amrita\\anaconda3\\lib\\site-packages (from spacy) (0.10.1)\n",
      "Requirement already satisfied: langcodes<4.0.0,>=3.2.0 in c:\\users\\amrita\\anaconda3\\lib\\site-packages (from spacy) (3.3.0)\n",
      "Requirement already satisfied: pydantic!=1.8,!=1.8.1,<1.11.0,>=1.7.4 in c:\\users\\amrita\\anaconda3\\lib\\site-packages (from spacy) (1.10.9)\n",
      "Requirement already satisfied: tqdm<5.0.0,>=4.38.0 in c:\\users\\amrita\\anaconda3\\lib\\site-packages (from spacy) (4.59.0)\n",
      "Requirement already satisfied: wasabi<1.2.0,>=0.9.1 in c:\\users\\amrita\\anaconda3\\lib\\site-packages (from spacy) (1.1.2)\n",
      "Requirement already satisfied: catalogue<2.1.0,>=2.0.6 in c:\\users\\amrita\\anaconda3\\lib\\site-packages (from spacy) (2.0.8)\n",
      "Requirement already satisfied: requests<3.0.0,>=2.13.0 in c:\\users\\amrita\\anaconda3\\lib\\site-packages (from spacy) (2.27.1)\n",
      "Requirement already satisfied: thinc<8.2.0,>=8.1.8 in c:\\users\\amrita\\anaconda3\\lib\\site-packages (from spacy) (8.1.10)\n",
      "Requirement already satisfied: typing-extensions>=4.2.0 in c:\\users\\amrita\\anaconda3\\lib\\site-packages (from pydantic!=1.8,!=1.8.1,<1.11.0,>=1.7.4->spacy) (4.6.3)\n",
      "Requirement already satisfied: certifi>=2017.4.17 in c:\\users\\amrita\\anaconda3\\lib\\site-packages (from requests<3.0.0,>=2.13.0->spacy) (2020.12.5)\n",
      "Requirement already satisfied: urllib3<1.27,>=1.21.1 in c:\\users\\amrita\\anaconda3\\lib\\site-packages (from requests<3.0.0,>=2.13.0->spacy) (1.26.4)\n",
      "Requirement already satisfied: idna<4,>=2.5 in c:\\users\\amrita\\anaconda3\\lib\\site-packages (from requests<3.0.0,>=2.13.0->spacy) (2.10)\n",
      "Requirement already satisfied: charset-normalizer~=2.0.0 in c:\\users\\amrita\\anaconda3\\lib\\site-packages (from requests<3.0.0,>=2.13.0->spacy) (2.0.12)\n",
      "Requirement already satisfied: blis<0.8.0,>=0.7.8 in c:\\users\\amrita\\anaconda3\\lib\\site-packages (from thinc<8.2.0,>=8.1.8->spacy) (0.7.9)\n",
      "Requirement already satisfied: confection<1.0.0,>=0.0.1 in c:\\users\\amrita\\anaconda3\\lib\\site-packages (from thinc<8.2.0,>=8.1.8->spacy) (0.0.4)\n",
      "Requirement already satisfied: click<9.0.0,>=7.1.1 in c:\\users\\amrita\\anaconda3\\lib\\site-packages (from typer<0.8.0,>=0.3.0->spacy) (8.1.3)\n",
      "Requirement already satisfied: colorama in c:\\users\\amrita\\anaconda3\\lib\\site-packages (from click<9.0.0,>=7.1.1->typer<0.8.0,>=0.3.0->spacy) (0.4.6)\n",
      "Requirement already satisfied: MarkupSafe>=0.23 in c:\\users\\amrita\\anaconda3\\lib\\site-packages (from jinja2->spacy) (1.1.1)\n"
     ]
    }
   ],
   "source": [
    "#!pip3 install spacy"
   ]
  },
  {
   "cell_type": "code",
   "execution_count": 16,
   "id": "cf423e15",
   "metadata": {},
   "outputs": [
    {
     "name": "stdout",
     "output_type": "stream",
     "text": [
      "Requirement already satisfied: click in c:\\users\\amrita\\anaconda3\\lib\\site-packages (8.1.3)\n",
      "Requirement already satisfied: colorama in c:\\users\\amrita\\anaconda3\\lib\\site-packages (from click) (0.4.6)\n"
     ]
    }
   ],
   "source": [
    "#!pip install --upgrade click"
   ]
  },
  {
   "cell_type": "code",
   "execution_count": 17,
   "id": "85daab28",
   "metadata": {},
   "outputs": [
    {
     "name": "stdout",
     "output_type": "stream",
     "text": [
      "Collecting en-core-web-md==3.5.0\n",
      "  Downloading https://github.com/explosion/spacy-models/releases/download/en_core_web_md-3.5.0/en_core_web_md-3.5.0-py3-none-any.whl (42.8 MB)\n",
      "Requirement already satisfied: spacy<3.6.0,>=3.5.0 in c:\\users\\amrita\\anaconda3\\lib\\site-packages (from en-core-web-md==3.5.0) (3.5.3)\n",
      "Requirement already satisfied: setuptools in c:\\users\\amrita\\anaconda3\\lib\\site-packages (from spacy<3.6.0,>=3.5.0->en-core-web-md==3.5.0) (52.0.0.post20210125)\n",
      "Requirement already satisfied: preshed<3.1.0,>=3.0.2 in c:\\users\\amrita\\anaconda3\\lib\\site-packages (from spacy<3.6.0,>=3.5.0->en-core-web-md==3.5.0) (3.0.8)\n",
      "Requirement already satisfied: typer<0.8.0,>=0.3.0 in c:\\users\\amrita\\anaconda3\\lib\\site-packages (from spacy<3.6.0,>=3.5.0->en-core-web-md==3.5.0) (0.7.0)\n",
      "Requirement already satisfied: smart-open<7.0.0,>=5.2.1 in c:\\users\\amrita\\anaconda3\\lib\\site-packages (from spacy<3.6.0,>=3.5.0->en-core-web-md==3.5.0) (6.3.0)\n",
      "Requirement already satisfied: srsly<3.0.0,>=2.4.3 in c:\\users\\amrita\\anaconda3\\lib\\site-packages (from spacy<3.6.0,>=3.5.0->en-core-web-md==3.5.0) (2.4.6)\n",
      "Requirement already satisfied: jinja2 in c:\\users\\amrita\\anaconda3\\lib\\site-packages (from spacy<3.6.0,>=3.5.0->en-core-web-md==3.5.0) (2.11.3)\n",
      "Requirement already satisfied: spacy-legacy<3.1.0,>=3.0.11 in c:\\users\\amrita\\anaconda3\\lib\\site-packages (from spacy<3.6.0,>=3.5.0->en-core-web-md==3.5.0) (3.0.12)\n",
      "Requirement already satisfied: tqdm<5.0.0,>=4.38.0 in c:\\users\\amrita\\anaconda3\\lib\\site-packages (from spacy<3.6.0,>=3.5.0->en-core-web-md==3.5.0) (4.59.0)\n",
      "Requirement already satisfied: numpy>=1.15.0 in c:\\users\\amrita\\anaconda3\\lib\\site-packages (from spacy<3.6.0,>=3.5.0->en-core-web-md==3.5.0) (1.23.5)\n",
      "Requirement already satisfied: murmurhash<1.1.0,>=0.28.0 in c:\\users\\amrita\\anaconda3\\lib\\site-packages (from spacy<3.6.0,>=3.5.0->en-core-web-md==3.5.0) (1.0.9)\n",
      "Requirement already satisfied: packaging>=20.0 in c:\\users\\amrita\\anaconda3\\lib\\site-packages (from spacy<3.6.0,>=3.5.0->en-core-web-md==3.5.0) (23.1)\n",
      "Requirement already satisfied: catalogue<2.1.0,>=2.0.6 in c:\\users\\amrita\\anaconda3\\lib\\site-packages (from spacy<3.6.0,>=3.5.0->en-core-web-md==3.5.0) (2.0.8)\n",
      "Requirement already satisfied: pydantic!=1.8,!=1.8.1,<1.11.0,>=1.7.4 in c:\\users\\amrita\\anaconda3\\lib\\site-packages (from spacy<3.6.0,>=3.5.0->en-core-web-md==3.5.0) (1.10.9)\n",
      "Requirement already satisfied: cymem<2.1.0,>=2.0.2 in c:\\users\\amrita\\anaconda3\\lib\\site-packages (from spacy<3.6.0,>=3.5.0->en-core-web-md==3.5.0) (2.0.7)\n",
      "Requirement already satisfied: wasabi<1.2.0,>=0.9.1 in c:\\users\\amrita\\anaconda3\\lib\\site-packages (from spacy<3.6.0,>=3.5.0->en-core-web-md==3.5.0) (1.1.2)\n",
      "Requirement already satisfied: requests<3.0.0,>=2.13.0 in c:\\users\\amrita\\anaconda3\\lib\\site-packages (from spacy<3.6.0,>=3.5.0->en-core-web-md==3.5.0) (2.27.1)\n",
      "Requirement already satisfied: spacy-loggers<2.0.0,>=1.0.0 in c:\\users\\amrita\\anaconda3\\lib\\site-packages (from spacy<3.6.0,>=3.5.0->en-core-web-md==3.5.0) (1.0.4)\n",
      "Requirement already satisfied: pathy>=0.10.0 in c:\\users\\amrita\\anaconda3\\lib\\site-packages (from spacy<3.6.0,>=3.5.0->en-core-web-md==3.5.0) (0.10.1)\n",
      "Requirement already satisfied: thinc<8.2.0,>=8.1.8 in c:\\users\\amrita\\anaconda3\\lib\\site-packages (from spacy<3.6.0,>=3.5.0->en-core-web-md==3.5.0) (8.1.10)\n",
      "Requirement already satisfied: langcodes<4.0.0,>=3.2.0 in c:\\users\\amrita\\anaconda3\\lib\\site-packages (from spacy<3.6.0,>=3.5.0->en-core-web-md==3.5.0) (3.3.0)\n",
      "Requirement already satisfied: typing-extensions>=4.2.0 in c:\\users\\amrita\\anaconda3\\lib\\site-packages (from pydantic!=1.8,!=1.8.1,<1.11.0,>=1.7.4->spacy<3.6.0,>=3.5.0->en-core-web-md==3.5.0) (4.6.3)\n",
      "Requirement already satisfied: charset-normalizer~=2.0.0 in c:\\users\\amrita\\anaconda3\\lib\\site-packages (from requests<3.0.0,>=2.13.0->spacy<3.6.0,>=3.5.0->en-core-web-md==3.5.0) (2.0.12)\n",
      "Requirement already satisfied: urllib3<1.27,>=1.21.1 in c:\\users\\amrita\\anaconda3\\lib\\site-packages (from requests<3.0.0,>=2.13.0->spacy<3.6.0,>=3.5.0->en-core-web-md==3.5.0) (1.26.4)\n",
      "Requirement already satisfied: idna<4,>=2.5 in c:\\users\\amrita\\anaconda3\\lib\\site-packages (from requests<3.0.0,>=2.13.0->spacy<3.6.0,>=3.5.0->en-core-web-md==3.5.0) (2.10)\n",
      "Requirement already satisfied: certifi>=2017.4.17 in c:\\users\\amrita\\anaconda3\\lib\\site-packages (from requests<3.0.0,>=2.13.0->spacy<3.6.0,>=3.5.0->en-core-web-md==3.5.0) (2020.12.5)\n",
      "Requirement already satisfied: blis<0.8.0,>=0.7.8 in c:\\users\\amrita\\anaconda3\\lib\\site-packages (from thinc<8.2.0,>=8.1.8->spacy<3.6.0,>=3.5.0->en-core-web-md==3.5.0) (0.7.9)\n",
      "Requirement already satisfied: confection<1.0.0,>=0.0.1 in c:\\users\\amrita\\anaconda3\\lib\\site-packages (from thinc<8.2.0,>=8.1.8->spacy<3.6.0,>=3.5.0->en-core-web-md==3.5.0) (0.0.4)\n",
      "Requirement already satisfied: click<9.0.0,>=7.1.1 in c:\\users\\amrita\\anaconda3\\lib\\site-packages (from typer<0.8.0,>=0.3.0->spacy<3.6.0,>=3.5.0->en-core-web-md==3.5.0) (8.1.3)\n",
      "Requirement already satisfied: colorama in c:\\users\\amrita\\anaconda3\\lib\\site-packages (from click<9.0.0,>=7.1.1->typer<0.8.0,>=0.3.0->spacy<3.6.0,>=3.5.0->en-core-web-md==3.5.0) (0.4.6)\n",
      "Requirement already satisfied: MarkupSafe>=0.23 in c:\\users\\amrita\\anaconda3\\lib\\site-packages (from jinja2->spacy<3.6.0,>=3.5.0->en-core-web-md==3.5.0) (1.1.1)\n",
      "\u001b[38;5;2m[+] Download and installation successful\u001b[0m\n",
      "You can now load the package via spacy.load('en_core_web_md')\n"
     ]
    }
   ],
   "source": [
    "#!python -m spacy download en_core_web_md"
   ]
  },
  {
   "cell_type": "code",
   "execution_count": 18,
   "id": "4c39759f",
   "metadata": {},
   "outputs": [],
   "source": [
    "import spacy\n",
    "\n",
    "nlp = spacy.load(\"en_core_web_md\")"
   ]
  },
  {
   "cell_type": "code",
   "execution_count": 19,
   "id": "71383aa5",
   "metadata": {},
   "outputs": [
    {
     "name": "stdout",
     "output_type": "stream",
     "text": [
      "['I love the book', 'This is a great book', 'This fit is great', 'I love the shoes']\n"
     ]
    }
   ],
   "source": [
    "print(train_x)"
   ]
  },
  {
   "cell_type": "code",
   "execution_count": 20,
   "id": "a2e4360f",
   "metadata": {},
   "outputs": [],
   "source": [
    "docs = [nlp(text) for text in train_x]\n",
    "train_x_word_vectors = [x.vector for x in docs]"
   ]
  },
  {
   "cell_type": "code",
   "execution_count": 21,
   "id": "0638d534",
   "metadata": {},
   "outputs": [
    {
     "name": "stdout",
     "output_type": "stream",
     "text": [
      "[I love the book, This is a great book, This fit is great, I love the shoes]\n"
     ]
    }
   ],
   "source": [
    "print(docs)"
   ]
  },
  {
   "cell_type": "code",
   "execution_count": 22,
   "id": "0a142fac",
   "metadata": {},
   "outputs": [
    {
     "name": "stdout",
     "output_type": "stream",
     "text": [
      "[-1.3978975  -0.94314    -1.1927751  -4.3043246  -1.69008    -2.18875\n",
      "  2.8568673   4.1011753  -3.6249747   4.17611     7.12575     2.2885249\n",
      " -6.495055   -0.703155    3.46178    -0.9427      4.1357403  -3.3983903\n",
      " -0.04899997  1.3973      1.5476775   1.4060001  -0.07001507 -4.591998\n",
      " -1.038875   -1.8461976  -3.6312752   0.4407499  -1.7652375   3.388475\n",
      " -0.4016     -1.471375   -0.39702505  0.24449998 -0.04592732 -1.4172026\n",
      " -1.167125    0.5882125   2.6957998  -0.5626705  -1.7447001   3.973075\n",
      " -0.671685   -1.0611899   4.576425    2.9842675  -2.49175    -2.6355624\n",
      "  0.5972425   0.59040004 -0.792125   -0.590725    0.33869502 -3.42171\n",
      " -3.4163604  -0.1711675  -0.786485    1.4665233   3.89455     1.9638373\n",
      "  5.5787754  -1.3022224  -0.651945    0.43172497 -2.4435027   0.596875\n",
      " -3.6072845  -5.0790253   3.3520503   3.8547673  -0.87257504  2.2705574\n",
      " -0.5900501  -2.054635    3.19281     3.36905    -2.8925076   1.6652\n",
      " -2.5049374  -2.7379746  -2.37408     0.8923325   5.0625834  -1.2852752\n",
      "  1.9027183   1.0960624  -0.52304995 -0.95255005 -1.9461374  -2.310925\n",
      " -1.098875    1.8177226   4.2221003  -6.537125    0.48603004 -3.50084\n",
      "  0.5391325  -0.50697494  1.2737525   0.521275    1.321665    3.1960826\n",
      "  2.002865    2.8237524  -1.3757352  -0.17954004 -1.6516751  -0.5081499\n",
      " -1.5433998  -1.4201249   1.3113251  -2.2571251   0.84857243  1.714025\n",
      "  1.82535     0.29791498 -2.233875   -2.3855677  -1.1692325   1.18858\n",
      " -2.2354374  -2.14905    -0.78332496  4.1412625   1.0825651   1.1799951\n",
      "  2.902325   -3.5272      0.34348005 -2.30878    -4.9016647   2.4042501\n",
      " -0.46282256 -2.743905   -2.4401073   3.803725   -3.1931999  -2.5288126\n",
      "  5.5490255  -5.0140996  -3.4048173   0.31995994  1.6301392   2.1406627\n",
      " -2.0564826   1.1080999  -1.593325    0.20552728 -3.6550498  -0.68221736\n",
      " -2.064635    3.63225    -0.97382474 -2.821975   -1.6865926   2.7102222\n",
      "  3.1241271   0.83275247 -1.4126899  -0.287584   -0.3687275  -5.2711525\n",
      " -1.8511002   1.1304475  -2.5447674   0.17523009 -2.3348875  -1.7706876\n",
      " -2.5483801  -0.93720007  3.9849     -1.0662625  -1.1497501   2.5656776\n",
      "  4.118925   -3.53025    -1.0182877   1.2404      1.2558925  -1.8724298\n",
      "  0.28065002 -0.24649996  5.1748123  -0.51769006  0.14942479  3.3902276\n",
      " -1.0006975  -3.0822291   4.4143      2.60167    -1.5609701   2.0564725\n",
      " -2.053175    1.6127999   2.1787999  -1.49475    -6.6126003   2.3603249\n",
      " -2.24825     6.54807    -1.2758749  -1.4058051  -4.0160775  -1.2164625\n",
      "  0.6155751  -2.1410775   1.1037402  -0.45322743 -0.76562977 -2.0316248\n",
      "  3.3534575   0.906615    1.78155     3.0272427  -1.490925    2.8774002\n",
      " -3.5095177   0.9973675  -0.25279248 -0.6435975  -1.468935    2.167055\n",
      " -1.5119425   5.634525   -1.8386     -0.34084988  0.37256616  3.5403275\n",
      "  2.133315    1.0783851  -3.0888252  -5.5216255   1.7827001  -1.00615\n",
      " -0.92117244  2.1876426  -3.1331475   6.675755   -1.2426828  -1.1250799\n",
      " -4.355845   -2.8189998   3.16365     1.7629576   5.450925   -0.41921014\n",
      " -2.0778     -2.4137576   4.885243    1.3854975  -1.960375   -0.20622507\n",
      " -6.011125   -1.2472365  -1.4729     -1.9700327  -0.14459997  0.09206754\n",
      " -4.2257      2.7291002   3.19189     3.539985    5.323       2.4565349\n",
      "  3.4231699  -3.2712998  -0.7532724   2.5230036  -6.0874753   1.398425\n",
      " -0.3443627  -3.8744974  -4.01758    -0.67568743 -1.0210674   0.18305254\n",
      "  0.52802503 -5.6001253  -0.54296505  2.2708325  -4.5382824  -2.6007726\n",
      "  2.742875    1.1766725   2.9447925  -1.3840849   2.25675     1.28454\n",
      " -1.8143474   0.09939742  3.9096823  -0.40517497  2.289015   -0.37639502\n",
      " -2.642429   -0.8754725   2.2959075  -0.20367491 -7.441825    1.10268   ]\n"
     ]
    }
   ],
   "source": [
    "print(docs[0].vector)"
   ]
  },
  {
   "cell_type": "code",
   "execution_count": 23,
   "id": "eea1b91b",
   "metadata": {},
   "outputs": [
    {
     "name": "stdout",
     "output_type": "stream",
     "text": [
      "[array([-1.3978975 , -0.94314   , -1.1927751 , -4.3043246 , -1.69008   ,\n",
      "       -2.18875   ,  2.8568673 ,  4.1011753 , -3.6249747 ,  4.17611   ,\n",
      "        7.12575   ,  2.2885249 , -6.495055  , -0.703155  ,  3.46178   ,\n",
      "       -0.9427    ,  4.1357403 , -3.3983903 , -0.04899997,  1.3973    ,\n",
      "        1.5476775 ,  1.4060001 , -0.07001507, -4.591998  , -1.038875  ,\n",
      "       -1.8461976 , -3.6312752 ,  0.4407499 , -1.7652375 ,  3.388475  ,\n",
      "       -0.4016    , -1.471375  , -0.39702505,  0.24449998, -0.04592732,\n",
      "       -1.4172026 , -1.167125  ,  0.5882125 ,  2.6957998 , -0.5626705 ,\n",
      "       -1.7447001 ,  3.973075  , -0.671685  , -1.0611899 ,  4.576425  ,\n",
      "        2.9842675 , -2.49175   , -2.6355624 ,  0.5972425 ,  0.59040004,\n",
      "       -0.792125  , -0.590725  ,  0.33869502, -3.42171   , -3.4163604 ,\n",
      "       -0.1711675 , -0.786485  ,  1.4665233 ,  3.89455   ,  1.9638373 ,\n",
      "        5.5787754 , -1.3022224 , -0.651945  ,  0.43172497, -2.4435027 ,\n",
      "        0.596875  , -3.6072845 , -5.0790253 ,  3.3520503 ,  3.8547673 ,\n",
      "       -0.87257504,  2.2705574 , -0.5900501 , -2.054635  ,  3.19281   ,\n",
      "        3.36905   , -2.8925076 ,  1.6652    , -2.5049374 , -2.7379746 ,\n",
      "       -2.37408   ,  0.8923325 ,  5.0625834 , -1.2852752 ,  1.9027183 ,\n",
      "        1.0960624 , -0.52304995, -0.95255005, -1.9461374 , -2.310925  ,\n",
      "       -1.098875  ,  1.8177226 ,  4.2221003 , -6.537125  ,  0.48603004,\n",
      "       -3.50084   ,  0.5391325 , -0.50697494,  1.2737525 ,  0.521275  ,\n",
      "        1.321665  ,  3.1960826 ,  2.002865  ,  2.8237524 , -1.3757352 ,\n",
      "       -0.17954004, -1.6516751 , -0.5081499 , -1.5433998 , -1.4201249 ,\n",
      "        1.3113251 , -2.2571251 ,  0.84857243,  1.714025  ,  1.82535   ,\n",
      "        0.29791498, -2.233875  , -2.3855677 , -1.1692325 ,  1.18858   ,\n",
      "       -2.2354374 , -2.14905   , -0.78332496,  4.1412625 ,  1.0825651 ,\n",
      "        1.1799951 ,  2.902325  , -3.5272    ,  0.34348005, -2.30878   ,\n",
      "       -4.9016647 ,  2.4042501 , -0.46282256, -2.743905  , -2.4401073 ,\n",
      "        3.803725  , -3.1931999 , -2.5288126 ,  5.5490255 , -5.0140996 ,\n",
      "       -3.4048173 ,  0.31995994,  1.6301392 ,  2.1406627 , -2.0564826 ,\n",
      "        1.1080999 , -1.593325  ,  0.20552728, -3.6550498 , -0.68221736,\n",
      "       -2.064635  ,  3.63225   , -0.97382474, -2.821975  , -1.6865926 ,\n",
      "        2.7102222 ,  3.1241271 ,  0.83275247, -1.4126899 , -0.287584  ,\n",
      "       -0.3687275 , -5.2711525 , -1.8511002 ,  1.1304475 , -2.5447674 ,\n",
      "        0.17523009, -2.3348875 , -1.7706876 , -2.5483801 , -0.93720007,\n",
      "        3.9849    , -1.0662625 , -1.1497501 ,  2.5656776 ,  4.118925  ,\n",
      "       -3.53025   , -1.0182877 ,  1.2404    ,  1.2558925 , -1.8724298 ,\n",
      "        0.28065002, -0.24649996,  5.1748123 , -0.51769006,  0.14942479,\n",
      "        3.3902276 , -1.0006975 , -3.0822291 ,  4.4143    ,  2.60167   ,\n",
      "       -1.5609701 ,  2.0564725 , -2.053175  ,  1.6127999 ,  2.1787999 ,\n",
      "       -1.49475   , -6.6126003 ,  2.3603249 , -2.24825   ,  6.54807   ,\n",
      "       -1.2758749 , -1.4058051 , -4.0160775 , -1.2164625 ,  0.6155751 ,\n",
      "       -2.1410775 ,  1.1037402 , -0.45322743, -0.76562977, -2.0316248 ,\n",
      "        3.3534575 ,  0.906615  ,  1.78155   ,  3.0272427 , -1.490925  ,\n",
      "        2.8774002 , -3.5095177 ,  0.9973675 , -0.25279248, -0.6435975 ,\n",
      "       -1.468935  ,  2.167055  , -1.5119425 ,  5.634525  , -1.8386    ,\n",
      "       -0.34084988,  0.37256616,  3.5403275 ,  2.133315  ,  1.0783851 ,\n",
      "       -3.0888252 , -5.5216255 ,  1.7827001 , -1.00615   , -0.92117244,\n",
      "        2.1876426 , -3.1331475 ,  6.675755  , -1.2426828 , -1.1250799 ,\n",
      "       -4.355845  , -2.8189998 ,  3.16365   ,  1.7629576 ,  5.450925  ,\n",
      "       -0.41921014, -2.0778    , -2.4137576 ,  4.885243  ,  1.3854975 ,\n",
      "       -1.960375  , -0.20622507, -6.011125  , -1.2472365 , -1.4729    ,\n",
      "       -1.9700327 , -0.14459997,  0.09206754, -4.2257    ,  2.7291002 ,\n",
      "        3.19189   ,  3.539985  ,  5.323     ,  2.4565349 ,  3.4231699 ,\n",
      "       -3.2712998 , -0.7532724 ,  2.5230036 , -6.0874753 ,  1.398425  ,\n",
      "       -0.3443627 , -3.8744974 , -4.01758   , -0.67568743, -1.0210674 ,\n",
      "        0.18305254,  0.52802503, -5.6001253 , -0.54296505,  2.2708325 ,\n",
      "       -4.5382824 , -2.6007726 ,  2.742875  ,  1.1766725 ,  2.9447925 ,\n",
      "       -1.3840849 ,  2.25675   ,  1.28454   , -1.8143474 ,  0.09939742,\n",
      "        3.9096823 , -0.40517497,  2.289015  , -0.37639502, -2.642429  ,\n",
      "       -0.8754725 ,  2.2959075 , -0.20367491, -7.441825  ,  1.10268   ],\n",
      "      dtype=float32), array([-1.328936  ,  2.17024   , -2.0391262 , -2.28634   ,  4.27822   ,\n",
      "       -2.26364   ,  2.86144   ,  3.5754902 , -0.4349181 , -0.2665421 ,\n",
      "        9.690741  , -0.1906801 , -3.3692803 , -0.753708  ,  1.28145   ,\n",
      "        4.03198   ,  3.847894  ,  4.9808917 ,  2.072298  ,  2.623104  ,\n",
      "       -0.35236   ,  1.66168   , -2.292016  ,  0.5479474 , -2.64376   ,\n",
      "       -2.716198  , -3.5697799 , -2.28112   , -3.45368   ,  1.5505161 ,\n",
      "       -0.71529   ,  0.9622799 , -0.8430279 ,  0.33325   , -2.970686  ,\n",
      "        1.8040901 ,  0.96787465,  0.07214202,  4.47452   , -2.10383   ,\n",
      "       -3.011126  ,  3.38172   , -0.33968395, -0.80956   ,  0.01569786,\n",
      "        2.9871578 ,  4.511894  , -2.77179   , -1.439348  ,  0.86035   ,\n",
      "       -0.935198  , -1.862368  ,  3.1664882 , -3.1167283 , -1.5749819 ,\n",
      "       -0.3822    ,  1.4236739 ,  0.04469861,  0.613942  , -0.27552003,\n",
      "        3.485286  ,  0.657452  ,  0.21901998, -0.61578   , -2.730922  ,\n",
      "        1.7685101 , -3.4390197 , -8.37198   ,  2.782762  ,  1.9951919 ,\n",
      "       -0.87359035,  4.5618    , -6.1669602 , -1.035296  , -1.1816441 ,\n",
      "        3.88444   , -1.9830801 ,  3.96068   , -2.9349167 , -0.12319994,\n",
      "       -5.3654838 , -1.885754  ,  1.8004299 , -1.67143   ,  1.1638039 ,\n",
      "        1.93551   ,  1.5875399 , -1.490692  ,  5.2704263 , -2.83427   ,\n",
      "       -0.755894  , -3.9317393 ,  3.11832   , -7.49412   , -0.61232793,\n",
      "       -5.41438   ,  0.33126593,  0.69874007, -1.3610741 , -2.67932   ,\n",
      "       -0.713454  , -0.87553996,  5.52238   ,  7.32222   ,  1.458002  ,\n",
      "        3.77152   , -0.06337605,  0.41092402, -1.989884  ,  2.32293   ,\n",
      "        0.4090559 ,  4.2391    , -2.258838  ,  6.260154  ,  0.30130202,\n",
      "       -1.55182   , -5.4492197 ,  0.699932  ,  0.364674  ,  0.42709002,\n",
      "       -1.8879919 , -1.90714   ,  2.519756  ,  7.7632804 ,  0.17856006,\n",
      "       -5.12424   , -2.5872502 , -1.51694   ,  2.91961   , -3.59492   ,\n",
      "       -3.80718   ,  1.1104    ,  5.0719194 , -8.0284    , -1.3987753 ,\n",
      "        1.921108  ,  3.1621203 , -1.289202  ,  6.28004   , -3.55518   ,\n",
      "       -1.7399219 ,  1.2578299 ,  3.1687315 ,  2.324586  ,  3.033326  ,\n",
      "        0.91926   , -3.9258182 ,  0.43487588, -2.6701598 ,  6.38368   ,\n",
      "        2.5835001 ,  6.8433046 ,  1.26612   ,  1.99998   , -0.51441604,\n",
      "        2.8517578 ,  5.147842  ,  4.047646  , -0.47945204, -1.252568  ,\n",
      "       -1.0970938 , -1.942419  ,  3.437172  ,  0.873758  , -4.5235    ,\n",
      "       -2.115594  , -4.19064   ,  3.9215794 ,  2.3421102 , -2.01861   ,\n",
      "        4.430008  , -0.4053341 ,  2.1897678 ,  2.6091003 ,  0.71478   ,\n",
      "       -2.5204403 ,  0.50139797,  1.22572   , -1.5401999 , -1.51588   ,\n",
      "       -0.886176  ,  3.134452  ,  3.7310798 , -4.06692   , -1.301704  ,\n",
      "       -0.53547204, -4.0565    , -2.6179938 , -0.22632007,  4.4672685 ,\n",
      "       -2.758128  , -0.96588194, -1.90566   , -1.1928399 ,  3.8470597 ,\n",
      "        0.62867993, -4.25112   , -1.4551002 ,  2.866924  , -0.3651659 ,\n",
      "        0.2962361 , -1.5999641 , -6.3775997 , -3.9988499 ,  1.98792   ,\n",
      "        0.9956301 , -7.6256204 ,  2.245998  , -2.161532  , -3.616568  ,\n",
      "        4.5630198 ,  3.119228  ,  1.2751601 ,  2.69196   ,  2.5303283 ,\n",
      "        0.5857179 , -0.5998    , -1.991086  , -2.0703602 ,  0.31567198,\n",
      "       -2.125908  , -0.8332899 ,  1.2870139 ,  0.831844  ,  0.03807669,\n",
      "        0.29323998,  2.1713798 ,  2.10888   ,  3.36368   , -1.621508  ,\n",
      "        1.6618198 , -6.547754  ,  1.94174   ,  3.5145638 , -4.587572  ,\n",
      "        1.14274   ,  1.14363   ,  1.2716601 , -0.65011203,  2.404108  ,\n",
      "        2.1806238 , -0.23754597,  3.6332679 ,  5.0124397 , -0.24427184,\n",
      "       -1.1755221 , -3.5894668 ,  0.9308399 ,  1.038912  ,  3.640342  ,\n",
      "        0.9905801 , -0.20922399, -5.18274   , -4.953676  , -2.475676  ,\n",
      "       -1.26124   ,  3.3192182 ,  3.92876   ,  0.19720802, -1.161998  ,\n",
      "       -1.4737561 ,  2.697654  ,  3.9555001 ,  6.7879777 , -1.756064  ,\n",
      "        0.899994  , -2.7062001 ,  1.9924641 , -4.95082   , -0.67475003,\n",
      "        3.9438598 , -4.8788    , -0.68340194, -4.4146204 ,  1.2217859 ,\n",
      "        0.48162007,  2.8868601 ,  1.5973661 , -1.6978118 ,  0.35408002,\n",
      "        0.5239099 , -4.63968   , -3.4509075 ,  0.21174498,  7.539815  ,\n",
      "       -0.96177995,  4.95554   , -0.56026   , -2.23112   ,  2.5786679 ,\n",
      "        1.03296   , -0.28435993,  4.8968678 ,  1.094684  , -1.1713841 ,\n",
      "        2.2836    ,  0.74874   , -0.848966  , -4.796494  ,  2.823458  ],\n",
      "      dtype=float32), array([-6.53297603e-01,  3.74609995e+00, -3.80960751e+00, -3.15409970e+00,\n",
      "        2.12572479e+00,  4.86425042e-01,  1.44912505e+00,  3.46113729e+00,\n",
      "       -4.01619768e+00, -1.57605767e+00,  8.97172546e+00, -2.22990012e+00,\n",
      "       -2.86954975e+00,  9.12670016e-01,  3.24284744e+00,  3.10084987e+00,\n",
      "        2.05317661e-01,  3.75826502e+00,  1.88238752e+00, -2.58495003e-01,\n",
      "       -2.08872509e+00,  4.58024979e-01, -1.28829503e+00, -9.77843285e-01,\n",
      "       -4.20300007e+00,  1.04820251e+00, -1.75840008e+00, -2.14662504e+00,\n",
      "       -3.89374995e+00,  2.95637012e+00, -3.35175395e-02, -1.70225012e+00,\n",
      "       -2.19503498e+00, -1.69251251e+00, -1.52555513e+00,  3.09257507e+00,\n",
      "       -4.33456749e-01,  3.53774977e+00,  3.79057503e+00,  2.30883741e+00,\n",
      "       -1.06558251e+00,  2.94799995e+00, -2.90537477e-01, -2.32322502e+00,\n",
      "       -3.40223241e+00,  4.28887224e+00,  6.25499249e+00, -2.88855004e+00,\n",
      "       -1.51329005e+00,  1.40562534e-01,  2.00987744e+00, -6.16137564e-01,\n",
      "        2.94911790e+00, -3.74505019e+00,  4.79115278e-01, -1.54105008e+00,\n",
      "        8.51425081e-02,  1.85212493e+00, -5.44122458e-01,  2.79366255e+00,\n",
      "        4.48147774e+00, -1.42912507e+00, -1.12954986e+00, -8.41082454e-01,\n",
      "       -1.00136256e+00,  3.46203756e+00, -2.68929982e+00, -5.50864983e+00,\n",
      "        2.22250247e+00,  1.70039499e+00, -2.06395245e+00,  4.81918001e+00,\n",
      "       -4.89690018e+00, -1.48304498e+00, -6.02235079e-01,  4.31202507e+00,\n",
      "       -3.44539499e+00,  4.38924909e-01, -1.96763325e+00,  1.24105000e+00,\n",
      "       -5.13569975e+00, -1.53117001e+00, -1.51832491e-01, -1.75408506e+00,\n",
      "        1.19402492e+00,  1.44144249e+00,  3.70452452e+00,  2.54999995e-02,\n",
      "        4.61305761e+00,  5.20876348e-02, -1.32816744e+00, -2.85262489e+00,\n",
      "        1.68289495e+00, -9.47702503e+00, -2.44855881e-04, -5.39592505e+00,\n",
      "        4.00699914e-01, -2.94477487e+00, -2.64285016e+00, -3.84210014e+00,\n",
      "        3.37882489e-01, -1.90252495e+00,  3.99992490e+00,  5.96035004e+00,\n",
      "        1.05559242e+00,  5.45707512e+00, -3.45227003e+00,  3.25953007e+00,\n",
      "       -2.97085476e+00,  4.48872519e+00,  6.40969992e-01,  4.92249936e-01,\n",
      "       -2.37694979e+00,  3.07347989e+00, -1.04557252e+00, -8.73922467e-01,\n",
      "       -6.43767500e+00, -3.52174416e-02, -6.33907497e-01,  4.25757468e-01,\n",
      "       -2.94499993e+00,  1.34712505e+00,  1.23569500e+00,  3.24570012e+00,\n",
      "       -3.85550022e-01, -3.61057520e+00, -1.36629510e+00, -7.63653755e-01,\n",
      "        1.95984995e+00, -1.17589998e+00, -4.72625017e+00, -1.56297505e+00,\n",
      "        2.95532513e+00, -5.23486996e+00,  2.26630807e-01, -3.61665010e-01,\n",
      "        1.64097762e+00, -1.34340000e+00,  6.16702509e+00, -1.77357495e+00,\n",
      "       -1.82835013e-01,  7.20969915e-01,  4.24337530e+00,  7.76795030e-01,\n",
      "        1.47220027e+00, -1.92860007e+00, -5.06869745e+00, -1.65882754e+00,\n",
      "       -4.32355022e+00,  3.41052485e+00,  2.62050009e+00,  9.75380063e-01,\n",
      "        4.71329987e-01,  2.17114997e+00, -6.79367542e-01,  2.44209480e+00,\n",
      "        3.71085262e+00,  2.23541498e+00,  2.55674958e-01, -2.68115997e+00,\n",
      "        8.91832530e-01, -7.91896224e-01,  2.06874514e+00,  1.46455002e+00,\n",
      "       -4.78387499e+00, -2.16742471e-01, -2.19597507e+00,  1.10434985e+00,\n",
      "        2.17787504e+00, -2.48077512e+00,  3.15606022e+00, -2.28347510e-01,\n",
      "        3.66168475e+00, -8.81675005e-01,  3.55824947e-01, -4.22545004e+00,\n",
      "        9.31550026e-01,  2.29127502e+00,  1.96545005e-01,  2.46729970e-01,\n",
      "       -1.17614496e+00,  3.94086504e+00,  3.64761257e+00, -1.79584980e+00,\n",
      "       -3.34285498e+00, -3.57977509e+00, -2.24202490e+00, -3.79542494e+00,\n",
      "       -1.14930010e+00,  4.54755020e+00, -1.25510001e+00, -1.21874988e-01,\n",
      "        2.23499537e-02, -5.98349929e-01,  2.52702498e+00, -7.10200012e-01,\n",
      "       -2.82755494e+00,  1.16550088e-01,  4.52813005e+00, -3.18750763e+00,\n",
      "        5.13275027e-01, -2.02099979e-01, -4.62520027e+00, -2.21986485e+00,\n",
      "        1.18432510e+00,  3.48268747e+00, -1.06916256e+01,  2.59010005e+00,\n",
      "       -4.71167445e-01, -2.64316010e+00,  3.31472492e+00,  1.73035002e+00,\n",
      "        1.01424992e-01,  6.31349981e-01, -1.72036493e+00, -7.16712713e-01,\n",
      "       -1.25374943e-01, -7.62874901e-01, -3.89050066e-01,  8.97067547e-01,\n",
      "       -6.41374946e-01, -9.46739912e-01,  1.56426013e+00,  1.19550228e-02,\n",
      "       -4.84954059e-01,  6.25099897e-01,  1.90775037e-01,  3.66732502e+00,\n",
      "        2.99705005e+00, -3.68367529e+00, -1.93757510e+00, -3.28875017e+00,\n",
      "        1.75347495e+00,  1.55912995e+00, -4.42127514e+00,  3.48224998e-01,\n",
      "        1.02177751e+00, -7.11250067e-01,  2.08685994e+00,  3.46530008e+00,\n",
      "        1.24231255e+00, -1.86917514e-01,  6.85960054e-01,  1.93698752e+00,\n",
      "       -1.92209005e+00, -3.93389249e+00, -1.85984671e+00,  2.46679974e+00,\n",
      "        1.83719015e+00,  4.27765226e+00,  8.38932335e-01,  6.16694987e-01,\n",
      "       -4.57897472e+00, -2.30872011e+00,  1.61587989e+00, -5.33402491e+00,\n",
      "        3.93412232e+00,  4.46544981e+00,  5.72425067e-01, -2.56240988e+00,\n",
      "       -3.58728504e+00,  4.24751759e+00,  1.81945014e+00,  5.32787514e+00,\n",
      "       -1.06247497e+00,  8.77175033e-01, -1.20842505e+00,  1.23391747e+00,\n",
      "       -6.84879971e+00, -3.03701496e+00,  4.24757481e+00, -5.58962488e+00,\n",
      "       -1.66512251e+00, -2.50632501e+00, -1.07560003e+00, -2.98110008e+00,\n",
      "        5.29574990e-01,  1.76983261e+00, -2.16858983e+00,  1.70564997e+00,\n",
      "       -1.08622506e-01, -4.10902500e+00, -2.82532501e+00, -8.43023777e-01,\n",
      "        7.50169992e+00, -4.94900234e-02,  5.55284977e+00,  8.09659958e-01,\n",
      "       -9.90925074e-01,  1.14496005e+00,  2.79535007e+00, -4.46299911e-01,\n",
      "        4.00817490e+00,  4.31449920e-01, -5.16717494e-01,  1.97865009e+00,\n",
      "       -2.29380012e+00, -7.68932462e-01, -1.69536746e+00,  1.79822266e+00],\n",
      "      dtype=float32), array([-1.6003751e+00,  7.2021008e-01, -2.6574252e+00, -2.9903033e+00,\n",
      "       -8.8227999e-01, -2.5692505e-01,  9.1896743e-01,  4.6683502e+00,\n",
      "       -3.0022998e+00,  3.9764147e+00,  7.3907251e+00,  1.7910199e+00,\n",
      "       -5.1959047e+00, -4.6925998e-01,  3.6143050e+00, -1.6608000e+00,\n",
      "        1.9014401e+00, -4.6783152e+00, -6.8497497e-01, -2.7992502e-01,\n",
      "        2.7406025e+00,  6.3580012e-01,  6.5237492e-01, -6.2702503e+00,\n",
      "        7.3243248e-01, -4.5097253e-01, -1.7256250e+00,  5.5274904e-02,\n",
      "       -1.0586150e+00,  2.2629750e+00,  2.3027502e-01, -3.5802250e+00,\n",
      "        4.3005002e-01, -1.1819000e+00,  1.2738001e+00, -1.0862826e+00,\n",
      "       -1.3171501e+00,  6.7767000e-01,  3.1924999e+00,  4.9619496e-02,\n",
      "       -1.1078410e+00,  2.9077249e+00,  1.6016504e-01, -2.1588049e+00,\n",
      "        1.6819750e+00,  2.4526324e+00, -3.2320249e+00, -3.2487650e+00,\n",
      "       -7.1825385e-03,  1.5589883e+00,  5.1557505e-01, -6.0552502e-01,\n",
      "       -4.4560501e-01, -3.3918900e+00, -1.0446852e+00, -5.1716745e-01,\n",
      "        1.7572150e+00,  2.1671500e+00,  1.0142751e+00,  3.1748748e+00,\n",
      "        4.6259727e+00, -4.2453976e+00, -3.9719501e-01, -2.6092005e-01,\n",
      "       -2.0220177e+00, -6.0909998e-01, -3.1485097e+00, -3.3210752e+00,\n",
      "        3.4684253e+00,  4.2480750e+00, -5.9298998e-01,  2.0785322e+00,\n",
      "        1.4946499e+00, -1.7486950e+00,  4.0076051e+00,  3.1877999e+00,\n",
      "       -3.5966501e+00,  1.1644425e+00, -2.3220248e+00, -4.0424500e+00,\n",
      "       -2.4324400e+00,  4.0760750e-01,  4.0321207e+00, -2.8749003e+00,\n",
      "        1.2041383e+00, -8.4316254e-01, -2.3612499e-01, -2.0035005e-01,\n",
      "       -1.3943225e+00, -1.9657500e+00, -2.3636004e-01,  4.3517247e-01,\n",
      "        3.0860927e+00, -6.9667006e+00,  6.2576509e-01, -2.1636250e+00,\n",
      "        1.6143475e+00, -1.3810949e+00,  1.4069450e+00, -4.2567503e-01,\n",
      "        6.7154002e-01,  1.8513327e+00,  2.0130651e+00,  1.6194774e+00,\n",
      "       -1.5620601e+00,  1.3795850e+00, -2.7612500e+00,  1.1272252e+00,\n",
      "       -2.4083924e+00, -1.0862750e+00,  5.9165007e-01, -2.5696549e+00,\n",
      "        1.9081450e+00,  6.3555002e-01,  2.0526750e+00,  8.2019246e-01,\n",
      "       -1.7855500e+00, -3.5081751e+00,  8.7639254e-01,  9.2220008e-01,\n",
      "       -2.1699750e+00, -1.6502506e-01, -2.8515849e+00,  3.7243123e+00,\n",
      "       -7.2380996e-01,  1.5392008e-01,  2.9617500e+00, -2.8361499e+00,\n",
      "        1.5100925e+00, -8.6100495e-01, -4.2361403e+00,  1.0516676e+00,\n",
      "        2.6352242e-01, -1.6327800e+00, -6.8868244e-01,  2.4226274e+00,\n",
      "       -3.3835499e+00, -2.7823100e+00,  4.8071003e+00, -3.2006748e+00,\n",
      "       -2.9893124e+00,  1.2206742e-01,  2.4458501e+00,  2.5623677e+00,\n",
      "       -4.5330825e+00,  1.0171300e+00, -1.9180250e+00,  1.9438252e-01,\n",
      "       -2.3614249e+00, -2.3128173e+00, -3.0770602e+00,  2.6486750e+00,\n",
      "       -2.3014748e+00, -3.2449250e+00, -1.2826753e-01,  2.7775524e+00,\n",
      "        3.0277772e+00, -1.3579975e+00, -1.0879450e+00, -4.4600898e-01,\n",
      "       -8.8282579e-01, -4.7150002e+00, -2.2368553e+00,  9.8329753e-01,\n",
      "       -1.6812674e+00,  1.4849551e+00, -2.0500126e+00, -7.0092756e-01,\n",
      "       -2.6224575e+00,  3.1127495e-01,  3.2832251e+00, -1.9475050e+00,\n",
      "       -3.6150759e-01,  2.7871776e+00,  3.7460752e+00, -4.8535252e+00,\n",
      "       -4.8218763e-01, -9.2578763e-01,  1.1315687e+00, -1.2320800e+00,\n",
      "       -2.9990501e+00, -8.0986750e-01,  4.7081375e+00, -8.8650286e-03,\n",
      "       -2.2347250e+00,  2.8684177e+00, -1.0052025e+00, -4.1053367e+00,\n",
      "        2.1280003e+00,  2.6184025e+00,  8.6205006e-02,  3.1407251e+00,\n",
      "        3.8819993e-01,  3.0421245e-01,  1.1567999e+00, -2.0059249e+00,\n",
      "       -5.2225957e+00,  1.7189000e+00, -3.1160574e+00,  2.8038850e+00,\n",
      "       -1.1903499e+00, -1.7316501e+00, -2.5565274e+00, -1.2948625e+00,\n",
      "       -1.8612000e+00, -1.5102524e+00,  1.6456877e+00, -6.8452245e-01,\n",
      "       -7.0126474e-01, -1.3657999e+00,  2.4504576e+00,  2.0343000e-01,\n",
      "        1.6432000e+00,  2.9343176e+00, -2.4634249e+00,  2.0865500e+00,\n",
      "       -2.4560151e+00,  1.2860324e+00,  5.8080003e-02, -1.5564749e+00,\n",
      "       -1.5017376e+00,  1.5139949e+00, -1.9234250e+00,  5.8221998e+00,\n",
      "       -1.3662500e+00, -1.7796274e+00, -9.7548378e-01,  3.0033526e+00,\n",
      "        3.2897902e+00,  2.4387202e+00, -5.4014754e+00, -5.1940751e+00,\n",
      "        1.0515001e+00, -2.1239750e+00, -5.3146994e-01,  1.5551175e+00,\n",
      "       -3.6512425e+00,  5.4979548e+00,  5.5054224e-01, -4.4340491e-01,\n",
      "       -4.3398275e+00, -6.2644988e-01,  2.2094998e+00,  4.6818003e-01,\n",
      "        3.5357375e+00, -1.7070252e+00, -6.6315007e-01, -1.0652575e+00,\n",
      "        4.3010101e+00,  1.2609875e+00, -2.9158750e+00,  9.6839994e-01,\n",
      "       -6.6917253e+00, -5.0206155e-01, -1.3405001e-01, -3.7728326e+00,\n",
      "       -2.1077496e-01,  7.4709260e-01, -4.2610250e+00,  2.5568252e+00,\n",
      "        3.6405752e+00,  5.1222849e+00,  3.0640001e+00,  2.0560374e+00,\n",
      "        5.0089250e+00, -3.9664500e+00,  5.7744753e-01,  1.3351061e+00,\n",
      "       -5.9476504e+00,  1.6306850e+00,  1.2513623e+00, -2.6221726e+00,\n",
      "       -4.7398500e+00, -6.3437462e-02, -1.7942499e+00, -5.2222490e-02,\n",
      "        4.3000102e-02, -4.5044756e+00,  7.8128499e-01,  1.5746074e+00,\n",
      "       -4.7433825e+00, -1.3536227e+00,  2.1074076e+00,  6.9656748e-01,\n",
      "        3.6992502e+00, -1.1410251e+00,  3.1029999e-01,  1.6846800e+00,\n",
      "       -3.1943724e+00,  1.2868224e+00,  3.4101574e+00,  2.1998749e+00,\n",
      "        2.0021152e+00,  5.1982498e-01, -2.8116293e+00, -2.5442103e-03,\n",
      "        1.6738451e+00,  1.8546501e+00, -6.0770001e+00,  4.7967991e-01],\n",
      "      dtype=float32)]\n"
     ]
    }
   ],
   "source": [
    "print(train_x_word_vectors)"
   ]
  },
  {
   "cell_type": "code",
   "execution_count": 24,
   "id": "5f8e6d9c",
   "metadata": {},
   "outputs": [
    {
     "data": {
      "text/html": [
       "<style>#sk-container-id-3 {color: black;background-color: white;}#sk-container-id-3 pre{padding: 0;}#sk-container-id-3 div.sk-toggleable {background-color: white;}#sk-container-id-3 label.sk-toggleable__label {cursor: pointer;display: block;width: 100%;margin-bottom: 0;padding: 0.3em;box-sizing: border-box;text-align: center;}#sk-container-id-3 label.sk-toggleable__label-arrow:before {content: \"▸\";float: left;margin-right: 0.25em;color: #696969;}#sk-container-id-3 label.sk-toggleable__label-arrow:hover:before {color: black;}#sk-container-id-3 div.sk-estimator:hover label.sk-toggleable__label-arrow:before {color: black;}#sk-container-id-3 div.sk-toggleable__content {max-height: 0;max-width: 0;overflow: hidden;text-align: left;background-color: #f0f8ff;}#sk-container-id-3 div.sk-toggleable__content pre {margin: 0.2em;color: black;border-radius: 0.25em;background-color: #f0f8ff;}#sk-container-id-3 input.sk-toggleable__control:checked~div.sk-toggleable__content {max-height: 200px;max-width: 100%;overflow: auto;}#sk-container-id-3 input.sk-toggleable__control:checked~label.sk-toggleable__label-arrow:before {content: \"▾\";}#sk-container-id-3 div.sk-estimator input.sk-toggleable__control:checked~label.sk-toggleable__label {background-color: #d4ebff;}#sk-container-id-3 div.sk-label input.sk-toggleable__control:checked~label.sk-toggleable__label {background-color: #d4ebff;}#sk-container-id-3 input.sk-hidden--visually {border: 0;clip: rect(1px 1px 1px 1px);clip: rect(1px, 1px, 1px, 1px);height: 1px;margin: -1px;overflow: hidden;padding: 0;position: absolute;width: 1px;}#sk-container-id-3 div.sk-estimator {font-family: monospace;background-color: #f0f8ff;border: 1px dotted black;border-radius: 0.25em;box-sizing: border-box;margin-bottom: 0.5em;}#sk-container-id-3 div.sk-estimator:hover {background-color: #d4ebff;}#sk-container-id-3 div.sk-parallel-item::after {content: \"\";width: 100%;border-bottom: 1px solid gray;flex-grow: 1;}#sk-container-id-3 div.sk-label:hover label.sk-toggleable__label {background-color: #d4ebff;}#sk-container-id-3 div.sk-serial::before {content: \"\";position: absolute;border-left: 1px solid gray;box-sizing: border-box;top: 0;bottom: 0;left: 50%;z-index: 0;}#sk-container-id-3 div.sk-serial {display: flex;flex-direction: column;align-items: center;background-color: white;padding-right: 0.2em;padding-left: 0.2em;position: relative;}#sk-container-id-3 div.sk-item {position: relative;z-index: 1;}#sk-container-id-3 div.sk-parallel {display: flex;align-items: stretch;justify-content: center;background-color: white;position: relative;}#sk-container-id-3 div.sk-item::before, #sk-container-id-3 div.sk-parallel-item::before {content: \"\";position: absolute;border-left: 1px solid gray;box-sizing: border-box;top: 0;bottom: 0;left: 50%;z-index: -1;}#sk-container-id-3 div.sk-parallel-item {display: flex;flex-direction: column;z-index: 1;position: relative;background-color: white;}#sk-container-id-3 div.sk-parallel-item:first-child::after {align-self: flex-end;width: 50%;}#sk-container-id-3 div.sk-parallel-item:last-child::after {align-self: flex-start;width: 50%;}#sk-container-id-3 div.sk-parallel-item:only-child::after {width: 0;}#sk-container-id-3 div.sk-dashed-wrapped {border: 1px dashed gray;margin: 0 0.4em 0.5em 0.4em;box-sizing: border-box;padding-bottom: 0.4em;background-color: white;}#sk-container-id-3 div.sk-label label {font-family: monospace;font-weight: bold;display: inline-block;line-height: 1.2em;}#sk-container-id-3 div.sk-label-container {text-align: center;}#sk-container-id-3 div.sk-container {/* jupyter's `normalize.less` sets `[hidden] { display: none; }` but bootstrap.min.css set `[hidden] { display: none !important; }` so we also need the `!important` here to be able to override the default hidden behavior on the sphinx rendered scikit-learn.org. See: https://github.com/scikit-learn/scikit-learn/issues/21755 */display: inline-block !important;position: relative;}#sk-container-id-3 div.sk-text-repr-fallback {display: none;}</style><div id=\"sk-container-id-3\" class=\"sk-top-container\"><div class=\"sk-text-repr-fallback\"><pre>SVC(kernel=&#x27;linear&#x27;)</pre><b>In a Jupyter environment, please rerun this cell to show the HTML representation or trust the notebook. <br />On GitHub, the HTML representation is unable to render, please try loading this page with nbviewer.org.</b></div><div class=\"sk-container\" hidden><div class=\"sk-item\"><div class=\"sk-estimator sk-toggleable\"><input class=\"sk-toggleable__control sk-hidden--visually\" id=\"sk-estimator-id-3\" type=\"checkbox\" checked><label for=\"sk-estimator-id-3\" class=\"sk-toggleable__label sk-toggleable__label-arrow\">SVC</label><div class=\"sk-toggleable__content\"><pre>SVC(kernel=&#x27;linear&#x27;)</pre></div></div></div></div></div>"
      ],
      "text/plain": [
       "SVC(kernel='linear')"
      ]
     },
     "execution_count": 24,
     "metadata": {},
     "output_type": "execute_result"
    }
   ],
   "source": [
    "clf_svm_wv = svm.SVC(kernel='linear')\n",
    "clf_svm_wv.fit(train_x_word_vectors, train_y)"
   ]
  },
  {
   "cell_type": "code",
   "execution_count": 25,
   "id": "d1483662",
   "metadata": {},
   "outputs": [
    {
     "data": {
      "text/plain": [
       "array(['BOOKS', 'CLOTHING'], dtype='<U8')"
      ]
     },
     "execution_count": 25,
     "metadata": {},
     "output_type": "execute_result"
    }
   ],
   "source": [
    "#test_x = [\"I went to the bank and wrote a check\", \"let me check that out\"]\n",
    "\n",
    "test_x = [\"I love the stories\", \"let me check the dress out\"]\n",
    "test_docs = [nlp(text) for text in test_x]\n",
    "test_x_word_vectors =  [x.vector for x in test_docs]\n",
    "\n",
    "clf_svm_wv.predict(test_x_word_vectors)"
   ]
  },
  {
   "cell_type": "markdown",
   "id": "be3436eb",
   "metadata": {},
   "source": [
    "## 4. Regex"
   ]
  },
  {
   "cell_type": "code",
   "execution_count": 34,
   "id": "8bdf3bac",
   "metadata": {},
   "outputs": [
    {
     "name": "stdout",
     "output_type": "stream",
     "text": [
      "['abcd', 'abxxxcd']\n"
     ]
    }
   ],
   "source": [
    "import re\n",
    "\n",
    "regexp = re.compile(\"^ab[^\\s]*cd\")\n",
    "\n",
    "phrases = [\"abcd\", \"xxx\", \"abxxxcd\", \"ab cd\", \"aaa abxxxcd zzz\"]\n",
    "\n",
    "matches = []\n",
    "for i in phrases:\n",
    "    if re.match(regexp,i):\n",
    "        matches.append(i)\n",
    "\n",
    "print(matches)\n",
    "    "
   ]
  },
  {
   "cell_type": "code",
   "execution_count": 35,
   "id": "f3df1ed9",
   "metadata": {},
   "outputs": [
    {
     "name": "stdout",
     "output_type": "stream",
     "text": [
      "['abcd', 'abxxxcd']\n"
     ]
    }
   ],
   "source": [
    "import re\n",
    "\n",
    "regexp = re.compile(\"^ab[^\\s]*cd\")\n",
    "\n",
    "phrases2 = [\"abcd\", \"xxx\", \"abxxxcd\", \"ab cd\", \"aaa abxxxcd ccc\"]\n",
    "\n",
    "matches2 = []\n",
    "for i in phrases2:\n",
    "    if re.search(regexp,i):\n",
    "        matches2.append(i)\n",
    "\n",
    "print(matches2)"
   ]
  },
  {
   "cell_type": "code",
   "execution_count": 36,
   "id": "8b269312",
   "metadata": {},
   "outputs": [
    {
     "name": "stdout",
     "output_type": "stream",
     "text": [
      "['I liked that story.']\n"
     ]
    }
   ],
   "source": [
    "import re\n",
    "\n",
    "regexp = re.compile(r\"\\bread\\b|\\bstory\\b|book\")\n",
    "\n",
    "phrases = [\"I liked that story.\", \"the car treaded up the hill\", \"this hat is nice\"]\n",
    "\n",
    "matches = []\n",
    "for phrase in phrases:\n",
    "  if re.search(regexp, phrase):\n",
    "    matches.append(phrase)\n",
    "\n",
    "print(matches)\n"
   ]
  },
  {
   "cell_type": "markdown",
   "id": "ada01994",
   "metadata": {},
   "source": [
    "## 5.Stemming/Lemmatization\n",
    "### Normalizing text"
   ]
  },
  {
   "cell_type": "code",
   "execution_count": 37,
   "id": "28c95b94",
   "metadata": {},
   "outputs": [
    {
     "name": "stderr",
     "output_type": "stream",
     "text": [
      "[nltk_data] Downloading package wordnet to\n",
      "[nltk_data]     C:\\Users\\Amrita\\AppData\\Roaming\\nltk_data...\n",
      "[nltk_data] Downloading package stopwords to\n",
      "[nltk_data]     C:\\Users\\Amrita\\AppData\\Roaming\\nltk_data...\n",
      "[nltk_data]   Unzipping corpora\\stopwords.zip.\n",
      "[nltk_data] Downloading package punkt to\n",
      "[nltk_data]     C:\\Users\\Amrita\\AppData\\Roaming\\nltk_data...\n",
      "[nltk_data]   Unzipping tokenizers\\punkt.zip.\n"
     ]
    },
    {
     "data": {
      "text/plain": [
       "True"
      ]
     },
     "execution_count": 37,
     "metadata": {},
     "output_type": "execute_result"
    }
   ],
   "source": [
    "import nltk\n",
    "\n",
    "nltk.download('wordnet')\n",
    "nltk.download('stopwords')\n",
    "nltk.download('punkt')"
   ]
  },
  {
   "cell_type": "markdown",
   "id": "6a0e57c5",
   "metadata": {},
   "source": [
    "### Stemming"
   ]
  },
  {
   "cell_type": "code",
   "execution_count": 40,
   "id": "c216209b",
   "metadata": {},
   "outputs": [
    {
     "name": "stdout",
     "output_type": "stream",
     "text": [
      "['read', 'the', 'stori']\n"
     ]
    }
   ],
   "source": [
    "from nltk.tokenize import word_tokenize\n",
    "from nltk.stem import PorterStemmer\n",
    "\n",
    "stemmer = PorterStemmer()\n",
    "\n",
    "phrase = \"reading the stories\"\n",
    "words = word_tokenize(phrase)\n",
    "\n",
    "stemmed_words = []\n",
    "for word in words:\n",
    "  stemmed_words.append(stemmer.stem(word))\n",
    "\n",
    "print(stemmed_words)"
   ]
  },
  {
   "cell_type": "code",
   "execution_count": 41,
   "id": "1eeb2743",
   "metadata": {},
   "outputs": [
    {
     "data": {
      "text/plain": [
       "'read the stori'"
      ]
     },
     "execution_count": 41,
     "metadata": {},
     "output_type": "execute_result"
    }
   ],
   "source": [
    "\" \".join(stemmed_words)"
   ]
  },
  {
   "cell_type": "markdown",
   "id": "fe742348",
   "metadata": {},
   "source": [
    "### Lemmatizing"
   ]
  },
  {
   "cell_type": "code",
   "execution_count": 43,
   "id": "585a8077",
   "metadata": {},
   "outputs": [
    {
     "name": "stdout",
     "output_type": "stream",
     "text": [
      "['read', 'the', 'stories']\n"
     ]
    }
   ],
   "source": [
    "from nltk.stem import WordNetLemmatizer\n",
    "\n",
    "lemmatizer = WordNetLemmatizer()\n",
    "\n",
    "phrase = \"reading the stories\"\n",
    "words = word_tokenize(phrase)\n",
    "\n",
    "lemmatized_words = []\n",
    "for word in words:\n",
    "  lemmatized_words.append(lemmatizer.lemmatize(word, pos='v')) #specifying perts of speech\n",
    "\n",
    "print(lemmatized_words)"
   ]
  },
  {
   "cell_type": "code",
   "execution_count": 44,
   "id": "8d34bb3b",
   "metadata": {},
   "outputs": [
    {
     "data": {
      "text/plain": [
       "'read the stories'"
      ]
     },
     "execution_count": 44,
     "metadata": {},
     "output_type": "execute_result"
    }
   ],
   "source": [
    "\" \".join(lemmatized_words)"
   ]
  },
  {
   "cell_type": "markdown",
   "id": "88e4e280",
   "metadata": {},
   "source": [
    "## 6. Stopwords"
   ]
  },
  {
   "cell_type": "code",
   "execution_count": 45,
   "id": "3b73b26f",
   "metadata": {},
   "outputs": [],
   "source": [
    "from nltk.tokenize import word_tokenize\n",
    "from nltk.corpus import stopwords\n",
    "\n",
    "stop_words = stopwords.words('english')\n",
    "\n",
    "phrase = \"Here is an example sentence demonstrating the removal of stopwords\"\n",
    "\n",
    "words = word_tokenize(phrase)\n",
    "\n",
    "stripped_phrase = []\n",
    "for word in words:\n",
    "  if word not in stop_words:\n",
    "    stripped_phrase.append(word)"
   ]
  },
  {
   "cell_type": "code",
   "execution_count": 46,
   "id": "b9fd34c3",
   "metadata": {},
   "outputs": [
    {
     "name": "stdout",
     "output_type": "stream",
     "text": [
      "['Here', 'example', 'sentence', 'demonstrating', 'removal', 'stopwords']\n"
     ]
    }
   ],
   "source": [
    "print(stripped_phrase)"
   ]
  },
  {
   "cell_type": "code",
   "execution_count": 47,
   "id": "c624cae9",
   "metadata": {},
   "outputs": [
    {
     "name": "stdout",
     "output_type": "stream",
     "text": [
      "['i', 'me', 'my', 'myself', 'we', 'our', 'ours', 'ourselves', 'you', \"you're\", \"you've\", \"you'll\", \"you'd\", 'your', 'yours', 'yourself', 'yourselves', 'he', 'him', 'his', 'himself', 'she', \"she's\", 'her', 'hers', 'herself', 'it', \"it's\", 'its', 'itself', 'they', 'them', 'their', 'theirs', 'themselves', 'what', 'which', 'who', 'whom', 'this', 'that', \"that'll\", 'these', 'those', 'am', 'is', 'are', 'was', 'were', 'be', 'been', 'being', 'have', 'has', 'had', 'having', 'do', 'does', 'did', 'doing', 'a', 'an', 'the', 'and', 'but', 'if', 'or', 'because', 'as', 'until', 'while', 'of', 'at', 'by', 'for', 'with', 'about', 'against', 'between', 'into', 'through', 'during', 'before', 'after', 'above', 'below', 'to', 'from', 'up', 'down', 'in', 'out', 'on', 'off', 'over', 'under', 'again', 'further', 'then', 'once', 'here', 'there', 'when', 'where', 'why', 'how', 'all', 'any', 'both', 'each', 'few', 'more', 'most', 'other', 'some', 'such', 'no', 'nor', 'not', 'only', 'own', 'same', 'so', 'than', 'too', 'very', 's', 't', 'can', 'will', 'just', 'don', \"don't\", 'should', \"should've\", 'now', 'd', 'll', 'm', 'o', 're', 've', 'y', 'ain', 'aren', \"aren't\", 'couldn', \"couldn't\", 'didn', \"didn't\", 'doesn', \"doesn't\", 'hadn', \"hadn't\", 'hasn', \"hasn't\", 'haven', \"haven't\", 'isn', \"isn't\", 'ma', 'mightn', \"mightn't\", 'mustn', \"mustn't\", 'needn', \"needn't\", 'shan', \"shan't\", 'shouldn', \"shouldn't\", 'wasn', \"wasn't\", 'weren', \"weren't\", 'won', \"won't\", 'wouldn', \"wouldn't\"]\n"
     ]
    }
   ],
   "source": [
    "print(stop_words)"
   ]
  },
  {
   "cell_type": "code",
   "execution_count": 48,
   "id": "0cb0d067",
   "metadata": {},
   "outputs": [
    {
     "name": "stdout",
     "output_type": "stream",
     "text": [
      "179\n"
     ]
    }
   ],
   "source": [
    "print(len(stop_words))"
   ]
  },
  {
   "cell_type": "markdown",
   "id": "c9654b78",
   "metadata": {},
   "source": [
    "## 7. Spell correction"
   ]
  },
  {
   "cell_type": "code",
   "execution_count": 50,
   "id": "e978bdb7",
   "metadata": {},
   "outputs": [
    {
     "name": "stdout",
     "output_type": "stream",
     "text": [
      "Collecting textblob\n",
      "  Downloading textblob-0.17.1-py2.py3-none-any.whl (636 kB)\n",
      "Requirement already satisfied: nltk>=3.1 in c:\\users\\amrita\\anaconda3\\lib\\site-packages (from textblob) (3.6.1)\n",
      "Requirement already satisfied: regex in c:\\users\\amrita\\anaconda3\\lib\\site-packages (from nltk>=3.1->textblob) (2021.4.4)\n",
      "Requirement already satisfied: joblib in c:\\users\\amrita\\anaconda3\\lib\\site-packages (from nltk>=3.1->textblob) (1.0.1)\n",
      "Requirement already satisfied: tqdm in c:\\users\\amrita\\anaconda3\\lib\\site-packages (from nltk>=3.1->textblob) (4.59.0)\n",
      "Requirement already satisfied: click in c:\\users\\amrita\\anaconda3\\lib\\site-packages (from nltk>=3.1->textblob) (8.1.3)\n",
      "Requirement already satisfied: colorama in c:\\users\\amrita\\anaconda3\\lib\\site-packages (from click->nltk>=3.1->textblob) (0.4.6)\n",
      "Installing collected packages: textblob\n",
      "Successfully installed textblob-0.17.1\n"
     ]
    }
   ],
   "source": [
    "!pip install textblob"
   ]
  },
  {
   "cell_type": "code",
   "execution_count": 53,
   "id": "82705974",
   "metadata": {},
   "outputs": [
    {
     "name": "stdout",
     "output_type": "stream",
     "text": [
      "Finished."
     ]
    },
    {
     "name": "stderr",
     "output_type": "stream",
     "text": [
      "[nltk_data] Downloading package brown to\n",
      "[nltk_data]     C:\\Users\\Amrita\\AppData\\Roaming\\nltk_data...\n",
      "[nltk_data]   Unzipping corpora\\brown.zip.\n",
      "[nltk_data] Downloading package punkt to\n",
      "[nltk_data]     C:\\Users\\Amrita\\AppData\\Roaming\\nltk_data...\n",
      "[nltk_data]   Package punkt is already up-to-date!\n",
      "[nltk_data] Downloading package wordnet to\n",
      "[nltk_data]     C:\\Users\\Amrita\\AppData\\Roaming\\nltk_data...\n",
      "[nltk_data]   Package wordnet is already up-to-date!\n",
      "[nltk_data] Downloading package averaged_perceptron_tagger to\n",
      "[nltk_data]     C:\\Users\\Amrita\\AppData\\Roaming\\nltk_data...\n",
      "[nltk_data]   Unzipping taggers\\averaged_perceptron_tagger.zip.\n",
      "[nltk_data] Downloading package conll2000 to\n",
      "[nltk_data]     C:\\Users\\Amrita\\AppData\\Roaming\\nltk_data...\n",
      "[nltk_data]   Unzipping corpora\\conll2000.zip.\n",
      "[nltk_data] Downloading package movie_reviews to\n",
      "[nltk_data]     C:\\Users\\Amrita\\AppData\\Roaming\\nltk_data...\n",
      "[nltk_data]   Unzipping corpora\\movie_reviews.zip.\n"
     ]
    },
    {
     "name": "stdout",
     "output_type": "stream",
     "text": [
      "\n"
     ]
    }
   ],
   "source": [
    "!python -m textblob.download_corpora"
   ]
  },
  {
   "cell_type": "code",
   "execution_count": 57,
   "id": "dfe8ce16",
   "metadata": {},
   "outputs": [
    {
     "data": {
      "text/plain": [
       "TextBlob(\"this is an very good book\")"
      ]
     },
     "execution_count": 57,
     "metadata": {},
     "output_type": "execute_result"
    }
   ],
   "source": [
    "from textblob import TextBlob\n",
    "\n",
    "phrase = \"this is an very good boek\"\n",
    "\n",
    "tb_phrase = TextBlob(phrase)\n",
    "\n",
    "tb_phrase.correct()"
   ]
  },
  {
   "cell_type": "markdown",
   "id": "dc5af508",
   "metadata": {},
   "source": [
    "## 8. POS tagging"
   ]
  },
  {
   "cell_type": "code",
   "execution_count": 58,
   "id": "2ad9bc05",
   "metadata": {},
   "outputs": [
    {
     "data": {
      "text/plain": [
       "[('this', 'DT'),\n",
       " ('is', 'VBZ'),\n",
       " ('an', 'DT'),\n",
       " ('very', 'RB'),\n",
       " ('good', 'JJ'),\n",
       " ('boek', 'NN')]"
      ]
     },
     "execution_count": 58,
     "metadata": {},
     "output_type": "execute_result"
    }
   ],
   "source": [
    "tb_phrase.tags"
   ]
  },
  {
   "cell_type": "markdown",
   "id": "a5a134e4",
   "metadata": {},
   "source": [
    "## 9. Sentiment Analysis"
   ]
  },
  {
   "cell_type": "code",
   "execution_count": 59,
   "id": "aeb8a604",
   "metadata": {},
   "outputs": [
    {
     "data": {
      "text/plain": [
       "Sentiment(polarity=0.9099999999999999, subjectivity=0.7800000000000001)"
      ]
     },
     "execution_count": 59,
     "metadata": {},
     "output_type": "execute_result"
    }
   ],
   "source": [
    "tb_phrase.sentiment"
   ]
  },
  {
   "cell_type": "markdown",
   "id": "b2b2f6fa",
   "metadata": {},
   "source": [
    "## 10. BERT model (need GPU/CUDA to run)"
   ]
  },
  {
   "cell_type": "code",
   "execution_count": 60,
   "id": "35e88d48",
   "metadata": {},
   "outputs": [
    {
     "name": "stdout",
     "output_type": "stream",
     "text": [
      "Collecting spacy-transformers\n",
      "  Downloading spacy_transformers-1.2.5-cp38-cp38-win_amd64.whl (304 kB)\n",
      "Requirement already satisfied: srsly<3.0.0,>=2.4.0 in c:\\users\\amrita\\anaconda3\\lib\\site-packages (from spacy-transformers) (2.4.6)\n",
      "Collecting torch>=1.8.0\n",
      "  Downloading torch-2.0.1-cp38-cp38-win_amd64.whl (172.4 MB)\n",
      "Requirement already satisfied: spacy<4.0.0,>=3.5.0 in c:\\users\\amrita\\anaconda3\\lib\\site-packages (from spacy-transformers) (3.5.3)\n",
      "Collecting spacy-alignments<1.0.0,>=0.7.2\n",
      "  Downloading spacy_alignments-0.9.0-cp38-cp38-win_amd64.whl (186 kB)\n",
      "Collecting transformers<4.31.0,>=3.4.0\n",
      "  Downloading transformers-4.30.2-py3-none-any.whl (7.2 MB)\n",
      "Requirement already satisfied: numpy>=1.15.0 in c:\\users\\amrita\\anaconda3\\lib\\site-packages (from spacy-transformers) (1.23.5)\n",
      "Requirement already satisfied: catalogue<2.1.0,>=2.0.6 in c:\\users\\amrita\\anaconda3\\lib\\site-packages (from spacy<4.0.0,>=3.5.0->spacy-transformers) (2.0.8)\n",
      "Requirement already satisfied: setuptools in c:\\users\\amrita\\anaconda3\\lib\\site-packages (from spacy<4.0.0,>=3.5.0->spacy-transformers) (52.0.0.post20210125)\n",
      "Requirement already satisfied: pathy>=0.10.0 in c:\\users\\amrita\\anaconda3\\lib\\site-packages (from spacy<4.0.0,>=3.5.0->spacy-transformers) (0.10.1)\n",
      "Requirement already satisfied: pydantic!=1.8,!=1.8.1,<1.11.0,>=1.7.4 in c:\\users\\amrita\\anaconda3\\lib\\site-packages (from spacy<4.0.0,>=3.5.0->spacy-transformers) (1.10.9)\n",
      "Requirement already satisfied: typer<0.8.0,>=0.3.0 in c:\\users\\amrita\\anaconda3\\lib\\site-packages (from spacy<4.0.0,>=3.5.0->spacy-transformers) (0.7.0)\n",
      "Requirement already satisfied: thinc<8.2.0,>=8.1.8 in c:\\users\\amrita\\anaconda3\\lib\\site-packages (from spacy<4.0.0,>=3.5.0->spacy-transformers) (8.1.10)\n",
      "Requirement already satisfied: spacy-loggers<2.0.0,>=1.0.0 in c:\\users\\amrita\\anaconda3\\lib\\site-packages (from spacy<4.0.0,>=3.5.0->spacy-transformers) (1.0.4)\n",
      "Requirement already satisfied: langcodes<4.0.0,>=3.2.0 in c:\\users\\amrita\\anaconda3\\lib\\site-packages (from spacy<4.0.0,>=3.5.0->spacy-transformers) (3.3.0)\n",
      "Requirement already satisfied: murmurhash<1.1.0,>=0.28.0 in c:\\users\\amrita\\anaconda3\\lib\\site-packages (from spacy<4.0.0,>=3.5.0->spacy-transformers) (1.0.9)\n",
      "Requirement already satisfied: wasabi<1.2.0,>=0.9.1 in c:\\users\\amrita\\anaconda3\\lib\\site-packages (from spacy<4.0.0,>=3.5.0->spacy-transformers) (1.1.2)\n",
      "Requirement already satisfied: smart-open<7.0.0,>=5.2.1 in c:\\users\\amrita\\anaconda3\\lib\\site-packages (from spacy<4.0.0,>=3.5.0->spacy-transformers) (6.3.0)\n",
      "Requirement already satisfied: requests<3.0.0,>=2.13.0 in c:\\users\\amrita\\anaconda3\\lib\\site-packages (from spacy<4.0.0,>=3.5.0->spacy-transformers) (2.27.1)\n",
      "Requirement already satisfied: packaging>=20.0 in c:\\users\\amrita\\anaconda3\\lib\\site-packages (from spacy<4.0.0,>=3.5.0->spacy-transformers) (23.1)\n",
      "Requirement already satisfied: preshed<3.1.0,>=3.0.2 in c:\\users\\amrita\\anaconda3\\lib\\site-packages (from spacy<4.0.0,>=3.5.0->spacy-transformers) (3.0.8)\n",
      "Requirement already satisfied: cymem<2.1.0,>=2.0.2 in c:\\users\\amrita\\anaconda3\\lib\\site-packages (from spacy<4.0.0,>=3.5.0->spacy-transformers) (2.0.7)\n",
      "Requirement already satisfied: spacy-legacy<3.1.0,>=3.0.11 in c:\\users\\amrita\\anaconda3\\lib\\site-packages (from spacy<4.0.0,>=3.5.0->spacy-transformers) (3.0.12)\n",
      "Requirement already satisfied: jinja2 in c:\\users\\amrita\\anaconda3\\lib\\site-packages (from spacy<4.0.0,>=3.5.0->spacy-transformers) (2.11.3)\n",
      "Requirement already satisfied: tqdm<5.0.0,>=4.38.0 in c:\\users\\amrita\\anaconda3\\lib\\site-packages (from spacy<4.0.0,>=3.5.0->spacy-transformers) (4.59.0)\n",
      "Requirement already satisfied: typing-extensions>=4.2.0 in c:\\users\\amrita\\anaconda3\\lib\\site-packages (from pydantic!=1.8,!=1.8.1,<1.11.0,>=1.7.4->spacy<4.0.0,>=3.5.0->spacy-transformers) (4.6.3)\n",
      "Requirement already satisfied: urllib3<1.27,>=1.21.1 in c:\\users\\amrita\\anaconda3\\lib\\site-packages (from requests<3.0.0,>=2.13.0->spacy<4.0.0,>=3.5.0->spacy-transformers) (1.26.4)\n",
      "Requirement already satisfied: idna<4,>=2.5 in c:\\users\\amrita\\anaconda3\\lib\\site-packages (from requests<3.0.0,>=2.13.0->spacy<4.0.0,>=3.5.0->spacy-transformers) (2.10)\n",
      "Requirement already satisfied: certifi>=2017.4.17 in c:\\users\\amrita\\anaconda3\\lib\\site-packages (from requests<3.0.0,>=2.13.0->spacy<4.0.0,>=3.5.0->spacy-transformers) (2020.12.5)\n",
      "Requirement already satisfied: charset-normalizer~=2.0.0 in c:\\users\\amrita\\anaconda3\\lib\\site-packages (from requests<3.0.0,>=2.13.0->spacy<4.0.0,>=3.5.0->spacy-transformers) (2.0.12)\n",
      "Requirement already satisfied: blis<0.8.0,>=0.7.8 in c:\\users\\amrita\\anaconda3\\lib\\site-packages (from thinc<8.2.0,>=8.1.8->spacy<4.0.0,>=3.5.0->spacy-transformers) (0.7.9)\n",
      "Requirement already satisfied: confection<1.0.0,>=0.0.1 in c:\\users\\amrita\\anaconda3\\lib\\site-packages (from thinc<8.2.0,>=8.1.8->spacy<4.0.0,>=3.5.0->spacy-transformers) (0.0.4)\n",
      "Requirement already satisfied: filelock in c:\\users\\amrita\\anaconda3\\lib\\site-packages (from torch>=1.8.0->spacy-transformers) (3.0.12)\n",
      "Requirement already satisfied: sympy in c:\\users\\amrita\\anaconda3\\lib\\site-packages (from torch>=1.8.0->spacy-transformers) (1.8)\n",
      "Requirement already satisfied: networkx in c:\\users\\amrita\\anaconda3\\lib\\site-packages (from torch>=1.8.0->spacy-transformers) (2.5)\n",
      "Requirement already satisfied: regex!=2019.12.17 in c:\\users\\amrita\\anaconda3\\lib\\site-packages (from transformers<4.31.0,>=3.4.0->spacy-transformers) (2021.4.4)\n",
      "Collecting tokenizers!=0.11.3,<0.14,>=0.11.1\n",
      "  Downloading tokenizers-0.13.3-cp38-cp38-win_amd64.whl (3.5 MB)\n",
      "Collecting safetensors>=0.3.1\n",
      "  Downloading safetensors-0.3.1-cp38-cp38-win_amd64.whl (263 kB)\n",
      "Collecting huggingface-hub<1.0,>=0.14.1\n",
      "  Downloading huggingface_hub-0.15.1-py3-none-any.whl (236 kB)\n",
      "Requirement already satisfied: pyyaml>=5.1 in c:\\users\\amrita\\anaconda3\\lib\\site-packages (from transformers<4.31.0,>=3.4.0->spacy-transformers) (5.4.1)\n",
      "Requirement already satisfied: fsspec in c:\\users\\amrita\\anaconda3\\lib\\site-packages (from huggingface-hub<1.0,>=0.14.1->transformers<4.31.0,>=3.4.0->spacy-transformers) (0.9.0)\n",
      "Requirement already satisfied: click<9.0.0,>=7.1.1 in c:\\users\\amrita\\anaconda3\\lib\\site-packages (from typer<0.8.0,>=0.3.0->spacy<4.0.0,>=3.5.0->spacy-transformers) (8.1.3)\n",
      "Requirement already satisfied: colorama in c:\\users\\amrita\\anaconda3\\lib\\site-packages (from click<9.0.0,>=7.1.1->typer<0.8.0,>=0.3.0->spacy<4.0.0,>=3.5.0->spacy-transformers) (0.4.6)\n",
      "Requirement already satisfied: MarkupSafe>=0.23 in c:\\users\\amrita\\anaconda3\\lib\\site-packages (from jinja2->spacy<4.0.0,>=3.5.0->spacy-transformers) (1.1.1)\n",
      "Requirement already satisfied: decorator>=4.3.0 in c:\\users\\amrita\\anaconda3\\lib\\site-packages (from networkx->torch>=1.8.0->spacy-transformers) (5.0.6)\n",
      "Requirement already satisfied: mpmath>=0.19 in c:\\users\\amrita\\anaconda3\\lib\\site-packages (from sympy->torch>=1.8.0->spacy-transformers) (1.2.1)\n",
      "Installing collected packages: tokenizers, safetensors, huggingface-hub, transformers, torch, spacy-alignments, spacy-transformers\n",
      "Successfully installed huggingface-hub-0.15.1 safetensors-0.3.1 spacy-alignments-0.9.0 spacy-transformers-1.2.5 tokenizers-0.13.3 torch-2.0.1 transformers-4.30.2\n",
      "\n",
      "\u001b[38;5;1m[x] No compatible package found for 'en_trf_bertbaseuncased_lg' (spaCy\n",
      "v3.5.3)\u001b[0m\n",
      "\n"
     ]
    }
   ],
   "source": [
    "!pip install spacy-transformers\n",
    "#!python -m spacy download en_trf_bertbaseuncased_lg"
   ]
  },
  {
   "cell_type": "code",
   "execution_count": 62,
   "id": "6dc88bec",
   "metadata": {},
   "outputs": [
    {
     "name": "stdout",
     "output_type": "stream",
     "text": [
      "Collecting en-core-web-trf==3.5.0\n",
      "  Downloading https://github.com/explosion/spacy-models/releases/download/en_core_web_trf-3.5.0/en_core_web_trf-3.5.0-py3-none-any.whl (460.3 MB)\n",
      "Requirement already satisfied: spacy-transformers<1.3.0,>=1.2.0.dev0 in c:\\users\\amrita\\anaconda3\\lib\\site-packages (from en-core-web-trf==3.5.0) (1.2.5)\n",
      "Requirement already satisfied: spacy<3.6.0,>=3.5.0 in c:\\users\\amrita\\anaconda3\\lib\\site-packages (from en-core-web-trf==3.5.0) (3.5.3)\n",
      "Requirement already satisfied: wasabi<1.2.0,>=0.9.1 in c:\\users\\amrita\\anaconda3\\lib\\site-packages (from spacy<3.6.0,>=3.5.0->en-core-web-trf==3.5.0) (1.1.2)\n",
      "Requirement already satisfied: numpy>=1.15.0 in c:\\users\\amrita\\anaconda3\\lib\\site-packages (from spacy<3.6.0,>=3.5.0->en-core-web-trf==3.5.0) (1.23.5)\n",
      "Requirement already satisfied: srsly<3.0.0,>=2.4.3 in c:\\users\\amrita\\anaconda3\\lib\\site-packages (from spacy<3.6.0,>=3.5.0->en-core-web-trf==3.5.0) (2.4.6)\n",
      "Requirement already satisfied: preshed<3.1.0,>=3.0.2 in c:\\users\\amrita\\anaconda3\\lib\\site-packages (from spacy<3.6.0,>=3.5.0->en-core-web-trf==3.5.0) (3.0.8)\n",
      "Requirement already satisfied: cymem<2.1.0,>=2.0.2 in c:\\users\\amrita\\anaconda3\\lib\\site-packages (from spacy<3.6.0,>=3.5.0->en-core-web-trf==3.5.0) (2.0.7)\n",
      "Requirement already satisfied: packaging>=20.0 in c:\\users\\amrita\\anaconda3\\lib\\site-packages (from spacy<3.6.0,>=3.5.0->en-core-web-trf==3.5.0) (23.1)\n",
      "Requirement already satisfied: pathy>=0.10.0 in c:\\users\\amrita\\anaconda3\\lib\\site-packages (from spacy<3.6.0,>=3.5.0->en-core-web-trf==3.5.0) (0.10.1)\n",
      "Requirement already satisfied: langcodes<4.0.0,>=3.2.0 in c:\\users\\amrita\\anaconda3\\lib\\site-packages (from spacy<3.6.0,>=3.5.0->en-core-web-trf==3.5.0) (3.3.0)\n",
      "Requirement already satisfied: typer<0.8.0,>=0.3.0 in c:\\users\\amrita\\anaconda3\\lib\\site-packages (from spacy<3.6.0,>=3.5.0->en-core-web-trf==3.5.0) (0.7.0)\n",
      "Requirement already satisfied: jinja2 in c:\\users\\amrita\\anaconda3\\lib\\site-packages (from spacy<3.6.0,>=3.5.0->en-core-web-trf==3.5.0) (2.11.3)\n",
      "Requirement already satisfied: thinc<8.2.0,>=8.1.8 in c:\\users\\amrita\\anaconda3\\lib\\site-packages (from spacy<3.6.0,>=3.5.0->en-core-web-trf==3.5.0) (8.1.10)\n",
      "Requirement already satisfied: pydantic!=1.8,!=1.8.1,<1.11.0,>=1.7.4 in c:\\users\\amrita\\anaconda3\\lib\\site-packages (from spacy<3.6.0,>=3.5.0->en-core-web-trf==3.5.0) (1.10.9)\n",
      "Requirement already satisfied: spacy-loggers<2.0.0,>=1.0.0 in c:\\users\\amrita\\anaconda3\\lib\\site-packages (from spacy<3.6.0,>=3.5.0->en-core-web-trf==3.5.0) (1.0.4)\n",
      "Requirement already satisfied: murmurhash<1.1.0,>=0.28.0 in c:\\users\\amrita\\anaconda3\\lib\\site-packages (from spacy<3.6.0,>=3.5.0->en-core-web-trf==3.5.0) (1.0.9)\n",
      "Requirement already satisfied: spacy-legacy<3.1.0,>=3.0.11 in c:\\users\\amrita\\anaconda3\\lib\\site-packages (from spacy<3.6.0,>=3.5.0->en-core-web-trf==3.5.0) (3.0.12)\n",
      "Requirement already satisfied: tqdm<5.0.0,>=4.38.0 in c:\\users\\amrita\\anaconda3\\lib\\site-packages (from spacy<3.6.0,>=3.5.0->en-core-web-trf==3.5.0) (4.59.0)\n",
      "Requirement already satisfied: catalogue<2.1.0,>=2.0.6 in c:\\users\\amrita\\anaconda3\\lib\\site-packages (from spacy<3.6.0,>=3.5.0->en-core-web-trf==3.5.0) (2.0.8)\n",
      "Requirement already satisfied: smart-open<7.0.0,>=5.2.1 in c:\\users\\amrita\\anaconda3\\lib\\site-packages (from spacy<3.6.0,>=3.5.0->en-core-web-trf==3.5.0) (6.3.0)\n",
      "Requirement already satisfied: requests<3.0.0,>=2.13.0 in c:\\users\\amrita\\anaconda3\\lib\\site-packages (from spacy<3.6.0,>=3.5.0->en-core-web-trf==3.5.0) (2.27.1)\n",
      "Requirement already satisfied: setuptools in c:\\users\\amrita\\anaconda3\\lib\\site-packages (from spacy<3.6.0,>=3.5.0->en-core-web-trf==3.5.0) (52.0.0.post20210125)\n",
      "Requirement already satisfied: typing-extensions>=4.2.0 in c:\\users\\amrita\\anaconda3\\lib\\site-packages (from pydantic!=1.8,!=1.8.1,<1.11.0,>=1.7.4->spacy<3.6.0,>=3.5.0->en-core-web-trf==3.5.0) (4.6.3)\n",
      "Requirement already satisfied: idna<4,>=2.5 in c:\\users\\amrita\\anaconda3\\lib\\site-packages (from requests<3.0.0,>=2.13.0->spacy<3.6.0,>=3.5.0->en-core-web-trf==3.5.0) (2.10)\n",
      "Requirement already satisfied: urllib3<1.27,>=1.21.1 in c:\\users\\amrita\\anaconda3\\lib\\site-packages (from requests<3.0.0,>=2.13.0->spacy<3.6.0,>=3.5.0->en-core-web-trf==3.5.0) (1.26.4)\n",
      "Requirement already satisfied: certifi>=2017.4.17 in c:\\users\\amrita\\anaconda3\\lib\\site-packages (from requests<3.0.0,>=2.13.0->spacy<3.6.0,>=3.5.0->en-core-web-trf==3.5.0) (2020.12.5)\n",
      "Requirement already satisfied: charset-normalizer~=2.0.0 in c:\\users\\amrita\\anaconda3\\lib\\site-packages (from requests<3.0.0,>=2.13.0->spacy<3.6.0,>=3.5.0->en-core-web-trf==3.5.0) (2.0.12)\n",
      "Requirement already satisfied: torch>=1.8.0 in c:\\users\\amrita\\anaconda3\\lib\\site-packages (from spacy-transformers<1.3.0,>=1.2.0.dev0->en-core-web-trf==3.5.0) (2.0.1)\n",
      "Requirement already satisfied: spacy-alignments<1.0.0,>=0.7.2 in c:\\users\\amrita\\anaconda3\\lib\\site-packages (from spacy-transformers<1.3.0,>=1.2.0.dev0->en-core-web-trf==3.5.0) (0.9.0)\n",
      "Requirement already satisfied: transformers<4.31.0,>=3.4.0 in c:\\users\\amrita\\anaconda3\\lib\\site-packages (from spacy-transformers<1.3.0,>=1.2.0.dev0->en-core-web-trf==3.5.0) (4.30.2)\n",
      "Requirement already satisfied: blis<0.8.0,>=0.7.8 in c:\\users\\amrita\\anaconda3\\lib\\site-packages (from thinc<8.2.0,>=8.1.8->spacy<3.6.0,>=3.5.0->en-core-web-trf==3.5.0) (0.7.9)\n",
      "Requirement already satisfied: confection<1.0.0,>=0.0.1 in c:\\users\\amrita\\anaconda3\\lib\\site-packages (from thinc<8.2.0,>=8.1.8->spacy<3.6.0,>=3.5.0->en-core-web-trf==3.5.0) (0.0.4)\n",
      "Requirement already satisfied: networkx in c:\\users\\amrita\\anaconda3\\lib\\site-packages (from torch>=1.8.0->spacy-transformers<1.3.0,>=1.2.0.dev0->en-core-web-trf==3.5.0) (2.5)\n",
      "Requirement already satisfied: filelock in c:\\users\\amrita\\anaconda3\\lib\\site-packages (from torch>=1.8.0->spacy-transformers<1.3.0,>=1.2.0.dev0->en-core-web-trf==3.5.0) (3.0.12)\n",
      "Requirement already satisfied: sympy in c:\\users\\amrita\\anaconda3\\lib\\site-packages (from torch>=1.8.0->spacy-transformers<1.3.0,>=1.2.0.dev0->en-core-web-trf==3.5.0) (1.8)\n",
      "Requirement already satisfied: pyyaml>=5.1 in c:\\users\\amrita\\anaconda3\\lib\\site-packages (from transformers<4.31.0,>=3.4.0->spacy-transformers<1.3.0,>=1.2.0.dev0->en-core-web-trf==3.5.0) (5.4.1)\n",
      "Requirement already satisfied: huggingface-hub<1.0,>=0.14.1 in c:\\users\\amrita\\anaconda3\\lib\\site-packages (from transformers<4.31.0,>=3.4.0->spacy-transformers<1.3.0,>=1.2.0.dev0->en-core-web-trf==3.5.0) (0.15.1)\n",
      "Requirement already satisfied: tokenizers!=0.11.3,<0.14,>=0.11.1 in c:\\users\\amrita\\anaconda3\\lib\\site-packages (from transformers<4.31.0,>=3.4.0->spacy-transformers<1.3.0,>=1.2.0.dev0->en-core-web-trf==3.5.0) (0.13.3)\n",
      "Requirement already satisfied: safetensors>=0.3.1 in c:\\users\\amrita\\anaconda3\\lib\\site-packages (from transformers<4.31.0,>=3.4.0->spacy-transformers<1.3.0,>=1.2.0.dev0->en-core-web-trf==3.5.0) (0.3.1)\n",
      "Requirement already satisfied: regex!=2019.12.17 in c:\\users\\amrita\\anaconda3\\lib\\site-packages (from transformers<4.31.0,>=3.4.0->spacy-transformers<1.3.0,>=1.2.0.dev0->en-core-web-trf==3.5.0) (2021.4.4)\n",
      "Requirement already satisfied: fsspec in c:\\users\\amrita\\anaconda3\\lib\\site-packages (from huggingface-hub<1.0,>=0.14.1->transformers<4.31.0,>=3.4.0->spacy-transformers<1.3.0,>=1.2.0.dev0->en-core-web-trf==3.5.0) (0.9.0)\n",
      "Requirement already satisfied: click<9.0.0,>=7.1.1 in c:\\users\\amrita\\anaconda3\\lib\\site-packages (from typer<0.8.0,>=0.3.0->spacy<3.6.0,>=3.5.0->en-core-web-trf==3.5.0) (8.1.3)\n",
      "Requirement already satisfied: colorama in c:\\users\\amrita\\anaconda3\\lib\\site-packages (from click<9.0.0,>=7.1.1->typer<0.8.0,>=0.3.0->spacy<3.6.0,>=3.5.0->en-core-web-trf==3.5.0) (0.4.6)\n",
      "Requirement already satisfied: MarkupSafe>=0.23 in c:\\users\\amrita\\anaconda3\\lib\\site-packages (from jinja2->spacy<3.6.0,>=3.5.0->en-core-web-trf==3.5.0) (1.1.1)\n",
      "Requirement already satisfied: decorator>=4.3.0 in c:\\users\\amrita\\anaconda3\\lib\\site-packages (from networkx->torch>=1.8.0->spacy-transformers<1.3.0,>=1.2.0.dev0->en-core-web-trf==3.5.0) (5.0.6)\n",
      "Requirement already satisfied: mpmath>=0.19 in c:\\users\\amrita\\anaconda3\\lib\\site-packages (from sympy->torch>=1.8.0->spacy-transformers<1.3.0,>=1.2.0.dev0->en-core-web-trf==3.5.0) (1.2.1)\n",
      "Installing collected packages: en-core-web-trf\n",
      "Successfully installed en-core-web-trf-3.5.0\n",
      "\u001b[38;5;2m[+] Download and installation successful\u001b[0m\n",
      "You can now load the package via spacy.load('en_core_web_trf')\n"
     ]
    }
   ],
   "source": [
    "!python -m spacy download en_core_web_trf"
   ]
  },
  {
   "cell_type": "code",
   "execution_count": 64,
   "id": "17fe9c24",
   "metadata": {},
   "outputs": [
    {
     "name": "stdout",
     "output_type": "stream",
     "text": [
      "Requirement already satisfied: spacy-transformers in c:\\users\\amrita\\anaconda3\\lib\\site-packages (1.2.5)\n",
      "Requirement already satisfied: spacy-alignments<1.0.0,>=0.7.2 in c:\\users\\amrita\\anaconda3\\lib\\site-packages (from spacy-transformers) (0.9.0)\n",
      "Requirement already satisfied: spacy<4.0.0,>=3.5.0 in c:\\users\\amrita\\anaconda3\\lib\\site-packages (from spacy-transformers) (3.5.3)\n",
      "Requirement already satisfied: srsly<3.0.0,>=2.4.0 in c:\\users\\amrita\\anaconda3\\lib\\site-packages (from spacy-transformers) (2.4.6)\n",
      "Requirement already satisfied: torch>=1.8.0 in c:\\users\\amrita\\anaconda3\\lib\\site-packages (from spacy-transformers) (2.0.1)\n",
      "Requirement already satisfied: numpy>=1.15.0 in c:\\users\\amrita\\anaconda3\\lib\\site-packages (from spacy-transformers) (1.23.5)\n",
      "Requirement already satisfied: transformers<4.31.0,>=3.4.0 in c:\\users\\amrita\\anaconda3\\lib\\site-packages (from spacy-transformers) (4.30.2)\n",
      "Requirement already satisfied: cymem<2.1.0,>=2.0.2 in c:\\users\\amrita\\anaconda3\\lib\\site-packages (from spacy<4.0.0,>=3.5.0->spacy-transformers) (2.0.7)\n",
      "Requirement already satisfied: murmurhash<1.1.0,>=0.28.0 in c:\\users\\amrita\\anaconda3\\lib\\site-packages (from spacy<4.0.0,>=3.5.0->spacy-transformers) (1.0.9)\n",
      "Requirement already satisfied: thinc<8.2.0,>=8.1.8 in c:\\users\\amrita\\anaconda3\\lib\\site-packages (from spacy<4.0.0,>=3.5.0->spacy-transformers) (8.1.10)\n",
      "Requirement already satisfied: typer<0.8.0,>=0.3.0 in c:\\users\\amrita\\anaconda3\\lib\\site-packages (from spacy<4.0.0,>=3.5.0->spacy-transformers) (0.7.0)\n",
      "Requirement already satisfied: langcodes<4.0.0,>=3.2.0 in c:\\users\\amrita\\anaconda3\\lib\\site-packages (from spacy<4.0.0,>=3.5.0->spacy-transformers) (3.3.0)\n",
      "Requirement already satisfied: preshed<3.1.0,>=3.0.2 in c:\\users\\amrita\\anaconda3\\lib\\site-packages (from spacy<4.0.0,>=3.5.0->spacy-transformers) (3.0.8)\n",
      "Requirement already satisfied: smart-open<7.0.0,>=5.2.1 in c:\\users\\amrita\\anaconda3\\lib\\site-packages (from spacy<4.0.0,>=3.5.0->spacy-transformers) (6.3.0)\n",
      "Requirement already satisfied: jinja2 in c:\\users\\amrita\\anaconda3\\lib\\site-packages (from spacy<4.0.0,>=3.5.0->spacy-transformers) (2.11.3)\n",
      "Requirement already satisfied: pathy>=0.10.0 in c:\\users\\amrita\\anaconda3\\lib\\site-packages (from spacy<4.0.0,>=3.5.0->spacy-transformers) (0.10.1)\n",
      "Requirement already satisfied: requests<3.0.0,>=2.13.0 in c:\\users\\amrita\\anaconda3\\lib\\site-packages (from spacy<4.0.0,>=3.5.0->spacy-transformers) (2.27.1)\n",
      "Requirement already satisfied: setuptools in c:\\users\\amrita\\anaconda3\\lib\\site-packages (from spacy<4.0.0,>=3.5.0->spacy-transformers) (52.0.0.post20210125)\n",
      "Requirement already satisfied: spacy-legacy<3.1.0,>=3.0.11 in c:\\users\\amrita\\anaconda3\\lib\\site-packages (from spacy<4.0.0,>=3.5.0->spacy-transformers) (3.0.12)\n",
      "Requirement already satisfied: tqdm<5.0.0,>=4.38.0 in c:\\users\\amrita\\anaconda3\\lib\\site-packages (from spacy<4.0.0,>=3.5.0->spacy-transformers) (4.59.0)\n",
      "Requirement already satisfied: pydantic!=1.8,!=1.8.1,<1.11.0,>=1.7.4 in c:\\users\\amrita\\anaconda3\\lib\\site-packages (from spacy<4.0.0,>=3.5.0->spacy-transformers) (1.10.9)\n",
      "Requirement already satisfied: packaging>=20.0 in c:\\users\\amrita\\anaconda3\\lib\\site-packages (from spacy<4.0.0,>=3.5.0->spacy-transformers) (23.1)\n",
      "Requirement already satisfied: wasabi<1.2.0,>=0.9.1 in c:\\users\\amrita\\anaconda3\\lib\\site-packages (from spacy<4.0.0,>=3.5.0->spacy-transformers) (1.1.2)\n",
      "Requirement already satisfied: spacy-loggers<2.0.0,>=1.0.0 in c:\\users\\amrita\\anaconda3\\lib\\site-packages (from spacy<4.0.0,>=3.5.0->spacy-transformers) (1.0.4)\n",
      "Requirement already satisfied: catalogue<2.1.0,>=2.0.6 in c:\\users\\amrita\\anaconda3\\lib\\site-packages (from spacy<4.0.0,>=3.5.0->spacy-transformers) (2.0.8)\n",
      "Requirement already satisfied: typing-extensions>=4.2.0 in c:\\users\\amrita\\anaconda3\\lib\\site-packages (from pydantic!=1.8,!=1.8.1,<1.11.0,>=1.7.4->spacy<4.0.0,>=3.5.0->spacy-transformers) (4.6.3)\n",
      "Requirement already satisfied: idna<4,>=2.5 in c:\\users\\amrita\\anaconda3\\lib\\site-packages (from requests<3.0.0,>=2.13.0->spacy<4.0.0,>=3.5.0->spacy-transformers) (2.10)\n",
      "Requirement already satisfied: urllib3<1.27,>=1.21.1 in c:\\users\\amrita\\anaconda3\\lib\\site-packages (from requests<3.0.0,>=2.13.0->spacy<4.0.0,>=3.5.0->spacy-transformers) (1.26.4)\n",
      "Requirement already satisfied: charset-normalizer~=2.0.0 in c:\\users\\amrita\\anaconda3\\lib\\site-packages (from requests<3.0.0,>=2.13.0->spacy<4.0.0,>=3.5.0->spacy-transformers) (2.0.12)\n",
      "Requirement already satisfied: certifi>=2017.4.17 in c:\\users\\amrita\\anaconda3\\lib\\site-packages (from requests<3.0.0,>=2.13.0->spacy<4.0.0,>=3.5.0->spacy-transformers) (2020.12.5)\n",
      "Requirement already satisfied: confection<1.0.0,>=0.0.1 in c:\\users\\amrita\\anaconda3\\lib\\site-packages (from thinc<8.2.0,>=8.1.8->spacy<4.0.0,>=3.5.0->spacy-transformers) (0.0.4)\n",
      "Requirement already satisfied: blis<0.8.0,>=0.7.8 in c:\\users\\amrita\\anaconda3\\lib\\site-packages (from thinc<8.2.0,>=8.1.8->spacy<4.0.0,>=3.5.0->spacy-transformers) (0.7.9)\n",
      "Requirement already satisfied: sympy in c:\\users\\amrita\\anaconda3\\lib\\site-packages (from torch>=1.8.0->spacy-transformers) (1.8)\n",
      "Requirement already satisfied: filelock in c:\\users\\amrita\\anaconda3\\lib\\site-packages (from torch>=1.8.0->spacy-transformers) (3.0.12)\n",
      "Requirement already satisfied: networkx in c:\\users\\amrita\\anaconda3\\lib\\site-packages (from torch>=1.8.0->spacy-transformers) (2.5)\n",
      "Requirement already satisfied: pyyaml>=5.1 in c:\\users\\amrita\\anaconda3\\lib\\site-packages (from transformers<4.31.0,>=3.4.0->spacy-transformers) (5.4.1)\n",
      "Requirement already satisfied: huggingface-hub<1.0,>=0.14.1 in c:\\users\\amrita\\anaconda3\\lib\\site-packages (from transformers<4.31.0,>=3.4.0->spacy-transformers) (0.15.1)\n",
      "Requirement already satisfied: safetensors>=0.3.1 in c:\\users\\amrita\\anaconda3\\lib\\site-packages (from transformers<4.31.0,>=3.4.0->spacy-transformers) (0.3.1)\n",
      "Requirement already satisfied: tokenizers!=0.11.3,<0.14,>=0.11.1 in c:\\users\\amrita\\anaconda3\\lib\\site-packages (from transformers<4.31.0,>=3.4.0->spacy-transformers) (0.13.3)\n",
      "Requirement already satisfied: regex!=2019.12.17 in c:\\users\\amrita\\anaconda3\\lib\\site-packages (from transformers<4.31.0,>=3.4.0->spacy-transformers) (2021.4.4)\n",
      "Requirement already satisfied: fsspec in c:\\users\\amrita\\anaconda3\\lib\\site-packages (from huggingface-hub<1.0,>=0.14.1->transformers<4.31.0,>=3.4.0->spacy-transformers) (0.9.0)\n",
      "Requirement already satisfied: click<9.0.0,>=7.1.1 in c:\\users\\amrita\\anaconda3\\lib\\site-packages (from typer<0.8.0,>=0.3.0->spacy<4.0.0,>=3.5.0->spacy-transformers) (8.1.3)\n",
      "Requirement already satisfied: colorama in c:\\users\\amrita\\anaconda3\\lib\\site-packages (from click<9.0.0,>=7.1.1->typer<0.8.0,>=0.3.0->spacy<4.0.0,>=3.5.0->spacy-transformers) (0.4.6)\n",
      "Requirement already satisfied: MarkupSafe>=0.23 in c:\\users\\amrita\\anaconda3\\lib\\site-packages (from jinja2->spacy<4.0.0,>=3.5.0->spacy-transformers) (1.1.1)\n",
      "Requirement already satisfied: decorator>=4.3.0 in c:\\users\\amrita\\anaconda3\\lib\\site-packages (from networkx->torch>=1.8.0->spacy-transformers) (5.0.6)\n",
      "Requirement already satisfied: mpmath>=0.19 in c:\\users\\amrita\\anaconda3\\lib\\site-packages (from sympy->torch>=1.8.0->spacy-transformers) (1.2.1)\n"
     ]
    }
   ],
   "source": [
    "!pip install spacy-transformers"
   ]
  },
  {
   "cell_type": "code",
   "execution_count": 1,
   "id": "38590139",
   "metadata": {},
   "outputs": [
    {
     "ename": "OSError",
     "evalue": "[E050] Can't find model 'en_trf_bertbaseuncased_lg'. It doesn't seem to be a Python package or a valid path to a data directory.",
     "output_type": "error",
     "traceback": [
      "\u001b[1;31m---------------------------------------------------------------------------\u001b[0m",
      "\u001b[1;31mOSError\u001b[0m                                   Traceback (most recent call last)",
      "\u001b[1;32m<ipython-input-1-65f115066915>\u001b[0m in \u001b[0;36m<module>\u001b[1;34m\u001b[0m\n\u001b[0;32m      2\u001b[0m \u001b[1;32mimport\u001b[0m \u001b[0mtorch\u001b[0m\u001b[1;33m\u001b[0m\u001b[1;33m\u001b[0m\u001b[0m\n\u001b[0;32m      3\u001b[0m \u001b[1;33m\u001b[0m\u001b[0m\n\u001b[1;32m----> 4\u001b[1;33m \u001b[0mnlp\u001b[0m \u001b[1;33m=\u001b[0m \u001b[0mspacy\u001b[0m\u001b[1;33m.\u001b[0m\u001b[0mload\u001b[0m\u001b[1;33m(\u001b[0m\u001b[1;34m\"en_trf_bertbaseuncased_lg\"\u001b[0m\u001b[1;33m)\u001b[0m\u001b[1;33m\u001b[0m\u001b[1;33m\u001b[0m\u001b[0m\n\u001b[0m\u001b[0;32m      5\u001b[0m \u001b[0mdoc\u001b[0m \u001b[1;33m=\u001b[0m \u001b[0mnlp\u001b[0m\u001b[1;33m(\u001b[0m\u001b[1;34m\"Here is some text to encode.\"\u001b[0m\u001b[1;33m)\u001b[0m\u001b[1;33m\u001b[0m\u001b[1;33m\u001b[0m\u001b[0m\n",
      "\u001b[1;32m~\\anaconda3\\lib\\site-packages\\spacy\\__init__.py\u001b[0m in \u001b[0;36mload\u001b[1;34m(name, vocab, disable, enable, exclude, config)\u001b[0m\n\u001b[0;32m     52\u001b[0m     \u001b[0mRETURNS\u001b[0m \u001b[1;33m(\u001b[0m\u001b[0mLanguage\u001b[0m\u001b[1;33m)\u001b[0m\u001b[1;33m:\u001b[0m \u001b[0mThe\u001b[0m \u001b[0mloaded\u001b[0m \u001b[0mnlp\u001b[0m \u001b[0mobject\u001b[0m\u001b[1;33m.\u001b[0m\u001b[1;33m\u001b[0m\u001b[1;33m\u001b[0m\u001b[0m\n\u001b[0;32m     53\u001b[0m     \"\"\"\n\u001b[1;32m---> 54\u001b[1;33m     return util.load_model(\n\u001b[0m\u001b[0;32m     55\u001b[0m         \u001b[0mname\u001b[0m\u001b[1;33m,\u001b[0m\u001b[1;33m\u001b[0m\u001b[1;33m\u001b[0m\u001b[0m\n\u001b[0;32m     56\u001b[0m         \u001b[0mvocab\u001b[0m\u001b[1;33m=\u001b[0m\u001b[0mvocab\u001b[0m\u001b[1;33m,\u001b[0m\u001b[1;33m\u001b[0m\u001b[1;33m\u001b[0m\u001b[0m\n",
      "\u001b[1;32m~\\anaconda3\\lib\\site-packages\\spacy\\util.py\u001b[0m in \u001b[0;36mload_model\u001b[1;34m(name, vocab, disable, enable, exclude, config)\u001b[0m\n\u001b[0;32m    447\u001b[0m     \u001b[1;32mif\u001b[0m \u001b[0mname\u001b[0m \u001b[1;32min\u001b[0m \u001b[0mOLD_MODEL_SHORTCUTS\u001b[0m\u001b[1;33m:\u001b[0m\u001b[1;33m\u001b[0m\u001b[1;33m\u001b[0m\u001b[0m\n\u001b[0;32m    448\u001b[0m         \u001b[1;32mraise\u001b[0m \u001b[0mIOError\u001b[0m\u001b[1;33m(\u001b[0m\u001b[0mErrors\u001b[0m\u001b[1;33m.\u001b[0m\u001b[0mE941\u001b[0m\u001b[1;33m.\u001b[0m\u001b[0mformat\u001b[0m\u001b[1;33m(\u001b[0m\u001b[0mname\u001b[0m\u001b[1;33m=\u001b[0m\u001b[0mname\u001b[0m\u001b[1;33m,\u001b[0m \u001b[0mfull\u001b[0m\u001b[1;33m=\u001b[0m\u001b[0mOLD_MODEL_SHORTCUTS\u001b[0m\u001b[1;33m[\u001b[0m\u001b[0mname\u001b[0m\u001b[1;33m]\u001b[0m\u001b[1;33m)\u001b[0m\u001b[1;33m)\u001b[0m  \u001b[1;31m# type: ignore[index]\u001b[0m\u001b[1;33m\u001b[0m\u001b[1;33m\u001b[0m\u001b[0m\n\u001b[1;32m--> 449\u001b[1;33m     \u001b[1;32mraise\u001b[0m \u001b[0mIOError\u001b[0m\u001b[1;33m(\u001b[0m\u001b[0mErrors\u001b[0m\u001b[1;33m.\u001b[0m\u001b[0mE050\u001b[0m\u001b[1;33m.\u001b[0m\u001b[0mformat\u001b[0m\u001b[1;33m(\u001b[0m\u001b[0mname\u001b[0m\u001b[1;33m=\u001b[0m\u001b[0mname\u001b[0m\u001b[1;33m)\u001b[0m\u001b[1;33m)\u001b[0m\u001b[1;33m\u001b[0m\u001b[1;33m\u001b[0m\u001b[0m\n\u001b[0m\u001b[0;32m    450\u001b[0m \u001b[1;33m\u001b[0m\u001b[0m\n\u001b[0;32m    451\u001b[0m \u001b[1;33m\u001b[0m\u001b[0m\n",
      "\u001b[1;31mOSError\u001b[0m: [E050] Can't find model 'en_trf_bertbaseuncased_lg'. It doesn't seem to be a Python package or a valid path to a data directory."
     ]
    }
   ],
   "source": [
    "import spacy\n",
    "import torch\n",
    "\n",
    "nlp = spacy.load(\"en_trf_bertbaseuncased_lg\")\n",
    "doc = nlp(\"Here is some text to encode.\")"
   ]
  },
  {
   "cell_type": "code",
   "execution_count": null,
   "id": "8d64719c",
   "metadata": {},
   "outputs": [],
   "source": [
    "class Category:\n",
    "  BOOKS = \"BOOKS\"\n",
    "  BANK = \"BANK\"\n",
    "\n",
    "train_x = [\"good characters and plot progression\", \"check out the book\", \"good story. would recommend\", \"novel recommendation\", \"need to make a deposit to the bank\", \"balance inquiry savings\", \"save money\"]\n",
    "train_y = [Category.BOOKS, Category.BOOKS, Category.BOOKS, Category.BOOKS, Category.BANK, Category.BANK, Category.BANK]"
   ]
  },
  {
   "cell_type": "code",
   "execution_count": null,
   "id": "c8028051",
   "metadata": {},
   "outputs": [],
   "source": [
    "from sklearn import svm\n",
    "\n",
    "docs = [nlp(text) for text in train_x]\n",
    "train_x_vectors = [doc.vector for doc in docs]\n",
    "clf_svm = svm.SVC(kernel='linear')\n",
    "\n",
    "clf_svm.fit(train_x_vectors, train_y)\n",
    "\n",
    "test_x = [\"check this story out\"]\n",
    "docs = [nlp(text) for text in test_x]\n",
    "test_x_vectors = [doc.vector for doc in docs]\n",
    "\n",
    "clf_svm.predict(test_x_vectors)"
   ]
  }
 ],
 "metadata": {
  "kernelspec": {
   "display_name": "Python 3",
   "language": "python",
   "name": "python3"
  },
  "language_info": {
   "codemirror_mode": {
    "name": "ipython",
    "version": 3
   },
   "file_extension": ".py",
   "mimetype": "text/x-python",
   "name": "python",
   "nbconvert_exporter": "python",
   "pygments_lexer": "ipython3",
   "version": "3.8.8"
  }
 },
 "nbformat": 4,
 "nbformat_minor": 5
}
